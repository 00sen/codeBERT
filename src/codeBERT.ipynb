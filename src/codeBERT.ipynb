{
  "cells": [
    {
      "cell_type": "markdown",
      "metadata": {
        "id": "PMVcS-isKA6h"
      },
      "source": [
        "# CodeBERT\n",
        "## Luis Arturo Rendon Inarritu\n",
        "### A01703572 "
      ]
    },
    {
      "cell_type": "markdown",
      "metadata": {},
      "source": [
        "### Imports"
      ]
    },
    {
      "cell_type": "code",
      "execution_count": 25,
      "metadata": {
        "id": "wgevgcjxRu-j"
      },
      "outputs": [],
      "source": [
        "import torch\n",
        "from torch import nn\n",
        "from torch.optim import AdamW\n",
        "from os.path import join as joinpath\n",
        "import pandas as pd\n",
        "import matplotlib.pyplot as plt\n",
        "from transformers import(\n",
        "    AutoTokenizer,\n",
        "    AutoModelForSequenceClassification,\n",
        "    get_linear_schedule_with_warmup)\n",
        "\n",
        "from transformers.optimization import get_linear_schedule_with_warmup\n",
        "from tqdm import tqdm\n",
        "from torch.utils.data import DataLoader, Dataset\n",
        "from sklearn.model_selection import train_test_split\n",
        "from sklearn.metrics import confusion_matrix, classification_report\n",
        "from tqdm.auto import tqdm, trange\n",
        "import numpy as np"
      ]
    },
    {
      "cell_type": "markdown",
      "metadata": {},
      "source": [
        "### Model name and dataset read"
      ]
    },
    {
      "cell_type": "code",
      "execution_count": 26,
      "metadata": {
        "id": "_DP0S75om0qp"
      },
      "outputs": [],
      "source": [
        "MODEL_NAME = \"huggingface/CodeBERTa-small-v1\"\n",
        "plag_dataset = pd.read_csv(joinpath('..', 'plag_dataset.csv'))"
      ]
    },
    {
      "cell_type": "code",
      "execution_count": 27,
      "metadata": {},
      "outputs": [
        {
          "name": "stdout",
          "output_type": "stream",
          "text": [
            "Dataset lenght 1371\n"
          ]
        },
        {
          "data": {
            "text/html": [
              "<div>\n",
              "<style scoped>\n",
              "    .dataframe tbody tr th:only-of-type {\n",
              "        vertical-align: middle;\n",
              "    }\n",
              "\n",
              "    .dataframe tbody tr th {\n",
              "        vertical-align: top;\n",
              "    }\n",
              "\n",
              "    .dataframe thead th {\n",
              "        text-align: right;\n",
              "    }\n",
              "</style>\n",
              "<table border=\"1\" class=\"dataframe\">\n",
              "  <thead>\n",
              "    <tr style=\"text-align: right;\">\n",
              "      <th></th>\n",
              "      <th>Unnamed: 0</th>\n",
              "      <th>original</th>\n",
              "      <th>untrusted</th>\n",
              "      <th>plagiarism</th>\n",
              "    </tr>\n",
              "  </thead>\n",
              "  <tbody>\n",
              "    <tr>\n",
              "      <th>0</th>\n",
              "      <td>0</td>\n",
              "      <td>public class T1 { public static void main(Str...</td>\n",
              "      <td>import java.util.Scanner; public class Soal1 ...</td>\n",
              "      <td>0</td>\n",
              "    </tr>\n",
              "    <tr>\n",
              "      <th>1</th>\n",
              "      <td>1</td>\n",
              "      <td>public class T1 { public static void main(Str...</td>\n",
              "      <td>public class Kasus1L1 {          public stati...</td>\n",
              "      <td>1</td>\n",
              "    </tr>\n",
              "    <tr>\n",
              "      <th>2</th>\n",
              "      <td>2</td>\n",
              "      <td>public class T1 { public static void main(Str...</td>\n",
              "      <td>public class Kasus1L3 {          public stati...</td>\n",
              "      <td>1</td>\n",
              "    </tr>\n",
              "    <tr>\n",
              "      <th>3</th>\n",
              "      <td>3</td>\n",
              "      <td>public class T1 { public static void main(Str...</td>\n",
              "      <td>public class Kasus1L6 {               public ...</td>\n",
              "      <td>1</td>\n",
              "    </tr>\n",
              "    <tr>\n",
              "      <th>4</th>\n",
              "      <td>4</td>\n",
              "      <td>public class T1 { public static void main(Str...</td>\n",
              "      <td>public class L1 {     public static void main...</td>\n",
              "      <td>1</td>\n",
              "    </tr>\n",
              "  </tbody>\n",
              "</table>\n",
              "</div>"
            ],
            "text/plain": [
              "   Unnamed: 0                                           original  \\\n",
              "0           0   public class T1 { public static void main(Str...   \n",
              "1           1   public class T1 { public static void main(Str...   \n",
              "2           2   public class T1 { public static void main(Str...   \n",
              "3           3   public class T1 { public static void main(Str...   \n",
              "4           4   public class T1 { public static void main(Str...   \n",
              "\n",
              "                                           untrusted  plagiarism  \n",
              "0   import java.util.Scanner; public class Soal1 ...           0  \n",
              "1   public class Kasus1L1 {          public stati...           1  \n",
              "2   public class Kasus1L3 {          public stati...           1  \n",
              "3   public class Kasus1L6 {               public ...           1  \n",
              "4   public class L1 {     public static void main...           1  "
            ]
          },
          "execution_count": 27,
          "metadata": {},
          "output_type": "execute_result"
        }
      ],
      "source": [
        "print(f'Dataset lenght {len(plag_dataset)}')\n",
        "plag_dataset.head()"
      ]
    },
    {
      "cell_type": "markdown",
      "metadata": {},
      "source": [
        "### Divide dataset in train 80% and test 20%"
      ]
    },
    {
      "cell_type": "code",
      "execution_count": 28,
      "metadata": {},
      "outputs": [],
      "source": [
        "train, test = train_test_split(plag_dataset, test_size=0.2, random_state=69)"
      ]
    },
    {
      "cell_type": "code",
      "execution_count": 29,
      "metadata": {},
      "outputs": [
        {
          "name": "stdout",
          "output_type": "stream",
          "text": [
            "Train size: 1096\n",
            "Test size: 275\n"
          ]
        }
      ],
      "source": [
        "print(f'Train size: {len(train)}\\nTest size: {len(test)}')"
      ]
    },
    {
      "cell_type": "markdown",
      "metadata": {
        "id": "IaQnN0kv2vOq"
      },
      "source": [
        "## Tokenization\n",
        "This section is meant to show the tokenization process for the bert transformer"
      ]
    },
    {
      "cell_type": "code",
      "execution_count": 30,
      "metadata": {
        "colab": {
          "base_uri": "https://localhost:8080/",
          "height": 269,
          "referenced_widgets": [
            "300869b66070449ba09e2a1b75fbfa10",
            "7cbf1cb95c12405cbd7919840fb7ae6c",
            "d4c8ff0397c748aa992b44126f052ac3",
            "b89449965c7b45ba9cedf45d4d95490a",
            "ff64e548dbb441309b215b54d6474809",
            "472173a79a7c4dc6bff2ce0796cb7f53",
            "ce0d015bb0f140f28695717cdd34dec6",
            "eecdcdc5f4c546a5afdab057bac7a6e7",
            "6a78f5ba63f74967bedbb93a5e19b2bd",
            "71285d344a3747acb77452ef36772f31",
            "d3dc9cc5eaf34aea98fc8e1d0da60a72",
            "bfb82320ab7946afb7db444ca37d3c32",
            "3f098de8018146e1951d8e3496829734",
            "670db6abab2e439ab5bbe4238cfd2659",
            "a837cdcb372941ffa70f59695752cfa7",
            "6c84310a6a51443bb6c1ed8636237c94",
            "0c4501f1fe2142be969938806fb65cdf",
            "f6178f96235d408b8329d4d8b6d45da9",
            "b0d16046a2ee41fa8b1f5f2cebee6985",
            "2b8a7f8e5428462db3c173665dc0e355",
            "80858713ea4843dda4c5641a43282cab",
            "4669845a0d9e450bb286a7cd74d1f170",
            "92c4b3862d0b4e43be9a97f8687a619e",
            "fe16e1660fa94340957f3547d6673f15",
            "97532d4982c14fa29935fc32593a9f87",
            "2ba702d79770469f9492289b7c041900",
            "ba9511e4b1404eddb3a9ab972642de7e",
            "a3516dc0472b43c7be339763ba6326b0",
            "b692ccf581404ad5ab71d0d93d0b1cb3",
            "2f9e4487613f4842ae47018ce51acaa7",
            "ea5e80dd4ac641b8baec8828ad5698a7",
            "f0dc92050fa84ed3b3707f42cf7a984f",
            "6c51e30873104d31aaccac027b12f3bb",
            "8a7a3820e0f34559b55e8405b7b91442",
            "856ebb0fc62e4bc3943c62da5f010149",
            "48f831af461c407a9f23cd9d4978cc9a",
            "3cc9db3616e64bff80127768cc0e119a",
            "122329d9a8d2463c80ac405522c4215f",
            "98e2bd26bf284cf1b7ba766e306414ae",
            "8b7fb00125b14223ba52c8fb356d7a09",
            "e21f853f2fb64f7181de5dde034f901c",
            "9074b57fa52b4c02934d3f59a7ec531b",
            "b57dbfa5a7e34b718d27c3a9be08d904",
            "49e75d484d78457cbaf267123897d0fc"
          ]
        },
        "id": "x6qPgtjO2u0W",
        "outputId": "d5596c94-17df-4be9-82f2-cb9d5709200d"
      },
      "outputs": [],
      "source": [
        "tokenizer = AutoTokenizer.from_pretrained(MODEL_NAME, use_fast=True)"
      ]
    },
    {
      "cell_type": "code",
      "execution_count": 31,
      "metadata": {
        "colab": {
          "base_uri": "https://localhost:8080/"
        },
        "id": "SgW8XiZvcyqR",
        "outputId": "bd8ab686-8727-4d9d-9b4f-47d3d845d2f6"
      },
      "outputs": [
        {
          "name": "stdout",
          "output_type": "stream",
          "text": [
            "RobertaTokenizerFast(name_or_path='huggingface/CodeBERTa-small-v1', vocab_size=52000, model_max_length=512, is_fast=True, padding_side='right', truncation_side='right', special_tokens={'bos_token': '<s>', 'eos_token': '</s>', 'unk_token': '<unk>', 'sep_token': '</s>', 'pad_token': '<pad>', 'cls_token': '<s>', 'mask_token': '<mask>'}, clean_up_tokenization_spaces=False, added_tokens_decoder={\n",
            "\t0: AddedToken(\"<s>\", rstrip=False, lstrip=False, single_word=False, normalized=True, special=True),\n",
            "\t1: AddedToken(\"<pad>\", rstrip=False, lstrip=False, single_word=False, normalized=True, special=True),\n",
            "\t2: AddedToken(\"</s>\", rstrip=False, lstrip=False, single_word=False, normalized=True, special=True),\n",
            "\t3: AddedToken(\"<unk>\", rstrip=False, lstrip=False, single_word=False, normalized=True, special=True),\n",
            "\t4: AddedToken(\"<mask>\", rstrip=False, lstrip=True, single_word=False, normalized=False, special=True),\n",
            "}\n",
            ")\n"
          ]
        }
      ],
      "source": [
        "print(tokenizer)"
      ]
    },
    {
      "cell_type": "code",
      "execution_count": 32,
      "metadata": {
        "colab": {
          "base_uri": "https://localhost:8080/"
        },
        "id": "v37RO0E23VB0",
        "outputId": "ede7dd8d-da59-4ea2-ab1d-b422aa9da66b"
      },
      "outputs": [
        {
          "name": "stdout",
          "output_type": "stream",
          "text": [
            "Original string: public static void main(String[] args){}\n",
            "Token IDs: [0, 479, 807, 954, 3923, 12, 570, 751, 1327, 46561, 2]\n",
            "Tokens: ['<s>', 'public', 'Ġstatic', 'Ġvoid', 'Ġmain', '(', 'String', '[]', 'Ġargs', '){}', '</s>']\n"
          ]
        }
      ],
      "source": [
        "original_string = 'public static void main(String[] args){}'\n",
        "print(f'Original string: {original_string}')\n",
        "\n",
        "token_ids = tokenizer.encode(original_string)\n",
        "print(f'Token IDs: {token_ids}')\n",
        "\n",
        "tokens = tokenizer.convert_ids_to_tokens(token_ids)\n",
        "print(f'Tokens: {tokens}')"
      ]
    },
    {
      "cell_type": "code",
      "execution_count": 33,
      "metadata": {
        "colab": {
          "base_uri": "https://localhost:8080/"
        },
        "id": "QxvCjqIi429z",
        "outputId": "ce24084b-8fea-40ea-9df2-e30532dfdc11"
      },
      "outputs": [
        {
          "name": "stdout",
          "output_type": "stream",
          "text": [
            "Token IDs:\n",
            "tensor([[    0,  1291,  1299,   461,    21,   284,  1291,   807,   954,  3923,\n",
            "            12,   570,   751,  1327,    13,   284,  2820,    18,   557,    18,\n",
            "          3344,   427, 35248,   386,  7974,   748,  2820,    18,   557,    18,\n",
            "          3344,   427, 35248,   386,  7974,   748,  2820,    18,   557,    18,\n",
            "          3344,   427, 35248,   386,  7974,   748,  2820,    18,   557,    18,\n",
            "          3344,   427, 35248,   386,  7974,   748,  2820,    18,   557,    18,\n",
            "          3344,   427, 35248,   386,  7974,   748,   302,   302,   225,     2,\n",
            "             1,     1,     1,     1,     1,     1,     1,     1,     1,     1,\n",
            "             1,     1,     1,     1,     1,     1,     1,     1,     1,     1,\n",
            "             1,     1,     1,     1,     1,     1,     1,     1,     1,     1,\n",
            "             1,     1,     1,     1,     1,     1,     1,     1,     1,     1,\n",
            "             1,     1,     1,     1,     1,     1,     1,     1,     1,     1,\n",
            "             1,     1,     1,     1,     1,     1,     1,     1,     1,     1,\n",
            "             1,     1,     1,     1,     1,     1,     1,     1,     1,     1,\n",
            "             1,     1,     1,     1,     1,     1,     1,     1,     1,     1,\n",
            "             1,     1,     1,     1,     1,     1,     1,     1,     1,     1,\n",
            "             1,     1,     1,     1,     1,     1,     1,     1,     1,     1,\n",
            "             1,     1,     1,     1,     1,     1,     1,     1,     1,     1,\n",
            "             1,     1,     1,     1,     1,     1,     1,     1,     1,     1,\n",
            "             1,     1,     1,     1,     1,     1,     1,     1,     1,     1,\n",
            "             1,     1,     1,     1,     1,     1,     1,     1,     1,     1,\n",
            "             1,     1,     1,     1,     1,     1,     1,     1,     1,     1,\n",
            "             1,     1,     1,     1,     1,     1,     1,     1,     1,     1,\n",
            "             1,     1,     1,     1,     1,     1,     1,     1,     1,     1,\n",
            "             1,     1,     1,     1,     1,     1,     1,     1,     1,     1,\n",
            "             1,     1,     1,     1,     1,     1,     1,     1,     1,     1,\n",
            "             1,     1,     1,     1,     1,     1,     1,     1,     1,     1,\n",
            "             1,     1,     1,     1,     1,     1,     1,     1,     1,     1,\n",
            "             1,     1,     1,     1,     1,     1,     1,     1,     1,     1,\n",
            "             1,     1,     1,     1,     1,     1,     1,     1,     1,     1,\n",
            "             1,     1,     1,     1,     1,     1,     1,     1,     1,     1,\n",
            "             1,     1,     1,     1,     1,     1,     1,     1,     1,     1,\n",
            "             1,     1,     1,     1,     1,     1,     1,     1,     1,     1,\n",
            "             1,     1,     1,     1,     1,     1,     1,     1,     1,     1,\n",
            "             1,     1,     1,     1,     1,     1,     1,     1,     1,     1,\n",
            "             1,     1,     1,     1,     1,     1,     1,     1,     1,     1,\n",
            "             1,     1,     1,     1,     1,     1,     1,     1,     1,     1,\n",
            "             1,     1,     1,     1,     1,     1,     1,     1,     1,     1,\n",
            "             1,     1,     1,     1,     1,     1,     1,     1,     1,     1,\n",
            "             1,     1,     1,     1,     1,     1,     1,     1,     1,     1,\n",
            "             1,     1,     1,     1,     1,     1,     1,     1,     1,     1,\n",
            "             1,     1,     1,     1,     1,     1,     1,     1,     1,     1,\n",
            "             1,     1,     1,     1,     1,     1,     1,     1,     1,     1,\n",
            "             1,     1,     1,     1,     1,     1,     1,     1,     1,     1,\n",
            "             1,     1,     1,     1,     1,     1,     1,     1,     1,     1,\n",
            "             1,     1,     1,     1,     1,     1,     1,     1,     1,     1,\n",
            "             1,     1,     1,     1,     1,     1,     1,     1,     1,     1,\n",
            "             1,     1,     1,     1,     1,     1,     1,     1,     1,     1,\n",
            "             1,     1,     1,     1,     1,     1,     1,     1,     1,     1,\n",
            "             1,     1,     1,     1,     1,     1,     1,     1,     1,     1,\n",
            "             1,     1,     1,     1,     1,     1,     1,     1,     1,     1,\n",
            "             1,     1]])\n",
            "Attention Mask:\n",
            "tensor([[1, 1, 1, 1, 1, 1, 1, 1, 1, 1, 1, 1, 1, 1, 1, 1, 1, 1, 1, 1, 1, 1, 1, 1,\n",
            "         1, 1, 1, 1, 1, 1, 1, 1, 1, 1, 1, 1, 1, 1, 1, 1, 1, 1, 1, 1, 1, 1, 1, 1,\n",
            "         1, 1, 1, 1, 1, 1, 1, 1, 1, 1, 1, 1, 1, 1, 1, 1, 1, 1, 1, 1, 1, 1, 0, 0,\n",
            "         0, 0, 0, 0, 0, 0, 0, 0, 0, 0, 0, 0, 0, 0, 0, 0, 0, 0, 0, 0, 0, 0, 0, 0,\n",
            "         0, 0, 0, 0, 0, 0, 0, 0, 0, 0, 0, 0, 0, 0, 0, 0, 0, 0, 0, 0, 0, 0, 0, 0,\n",
            "         0, 0, 0, 0, 0, 0, 0, 0, 0, 0, 0, 0, 0, 0, 0, 0, 0, 0, 0, 0, 0, 0, 0, 0,\n",
            "         0, 0, 0, 0, 0, 0, 0, 0, 0, 0, 0, 0, 0, 0, 0, 0, 0, 0, 0, 0, 0, 0, 0, 0,\n",
            "         0, 0, 0, 0, 0, 0, 0, 0, 0, 0, 0, 0, 0, 0, 0, 0, 0, 0, 0, 0, 0, 0, 0, 0,\n",
            "         0, 0, 0, 0, 0, 0, 0, 0, 0, 0, 0, 0, 0, 0, 0, 0, 0, 0, 0, 0, 0, 0, 0, 0,\n",
            "         0, 0, 0, 0, 0, 0, 0, 0, 0, 0, 0, 0, 0, 0, 0, 0, 0, 0, 0, 0, 0, 0, 0, 0,\n",
            "         0, 0, 0, 0, 0, 0, 0, 0, 0, 0, 0, 0, 0, 0, 0, 0, 0, 0, 0, 0, 0, 0, 0, 0,\n",
            "         0, 0, 0, 0, 0, 0, 0, 0, 0, 0, 0, 0, 0, 0, 0, 0, 0, 0, 0, 0, 0, 0, 0, 0,\n",
            "         0, 0, 0, 0, 0, 0, 0, 0, 0, 0, 0, 0, 0, 0, 0, 0, 0, 0, 0, 0, 0, 0, 0, 0,\n",
            "         0, 0, 0, 0, 0, 0, 0, 0, 0, 0, 0, 0, 0, 0, 0, 0, 0, 0, 0, 0, 0, 0, 0, 0,\n",
            "         0, 0, 0, 0, 0, 0, 0, 0, 0, 0, 0, 0, 0, 0, 0, 0, 0, 0, 0, 0, 0, 0, 0, 0,\n",
            "         0, 0, 0, 0, 0, 0, 0, 0, 0, 0, 0, 0, 0, 0, 0, 0, 0, 0, 0, 0, 0, 0, 0, 0,\n",
            "         0, 0, 0, 0, 0, 0, 0, 0, 0, 0, 0, 0, 0, 0, 0, 0, 0, 0, 0, 0, 0, 0, 0, 0,\n",
            "         0, 0, 0, 0, 0, 0, 0, 0, 0, 0, 0, 0, 0, 0, 0, 0, 0, 0, 0, 0, 0, 0, 0, 0,\n",
            "         0, 0, 0, 0, 0, 0, 0, 0, 0, 0, 0, 0, 0, 0, 0, 0, 0, 0, 0, 0, 0, 0, 0, 0,\n",
            "         0, 0, 0, 0, 0, 0, 0, 0, 0, 0, 0, 0, 0, 0, 0, 0, 0, 0, 0, 0, 0, 0, 0, 0,\n",
            "         0, 0, 0, 0, 0, 0, 0, 0, 0, 0, 0, 0, 0, 0, 0, 0, 0, 0, 0, 0, 0, 0, 0, 0,\n",
            "         0, 0, 0, 0, 0, 0, 0, 0]])\n"
          ]
        }
      ],
      "source": [
        "sourceCode = plag_dataset['original'].iloc[0]\n",
        "\n",
        "token_ids = tokenizer.encode_plus(\n",
        "  sourceCode,\n",
        "  max_length = 512,\n",
        "  padding = 'max_length',\n",
        "  truncation = True,\n",
        "  return_tensors = 'pt',\n",
        ")\n",
        "\n",
        "print('Token IDs:')\n",
        "print(token_ids['input_ids'])\n",
        "\n",
        "print('Attention Mask:')\n",
        "print(token_ids['attention_mask'])\n"
      ]
    },
    {
      "cell_type": "markdown",
      "metadata": {},
      "source": [
        "# Model definition"
      ]
    },
    {
      "cell_type": "code",
      "execution_count": 34,
      "metadata": {},
      "outputs": [
        {
          "name": "stderr",
          "output_type": "stream",
          "text": [
            "Some weights of RobertaForSequenceClassification were not initialized from the model checkpoint at huggingface/CodeBERTa-small-v1 and are newly initialized: ['classifier.dense.bias', 'classifier.dense.weight', 'classifier.out_proj.bias', 'classifier.out_proj.weight']\n",
            "You should probably TRAIN this model on a down-stream task to be able to use it for predictions and inference.\n"
          ]
        }
      ],
      "source": [
        "model = AutoModelForSequenceClassification.from_pretrained(\n",
        "    MODEL_NAME,\n",
        "    num_labels=2\n",
        ")"
      ]
    },
    {
      "cell_type": "markdown",
      "metadata": {},
      "source": [
        "## Data Loading"
      ]
    },
    {
      "cell_type": "code",
      "execution_count": 35,
      "metadata": {
        "id": "XSr5uIfQ9uom"
      },
      "outputs": [],
      "source": [
        "class TokenizedDataset(Dataset):\n",
        "    def __init__(self, df: pd.DataFrame):\n",
        "        super().__init__()\n",
        "        self.tokenizer = AutoTokenizer.from_pretrained(MODEL_NAME)\n",
        "\n",
        "        # just keep the texts and the label\n",
        "        self.original  = df[\"original\"].tolist()\n",
        "        self.untrusted = df[\"untrusted\"].tolist()\n",
        "        self.labels    = df[\"plagiarism\"].tolist()\n",
        "\n",
        "    def __len__(self):\n",
        "        return len(self.labels)\n",
        "\n",
        "    def __getitem__(self, idx):\n",
        "        return {\n",
        "            \"code_a\": self.original[idx],\n",
        "            \"code_b\": self.untrusted[idx],\n",
        "            \"label\":  self.labels[idx],\n",
        "        }"
      ]
    },
    {
      "cell_type": "code",
      "execution_count": 36,
      "metadata": {},
      "outputs": [],
      "source": [
        "def collate_fn(batch, max_len=256):\n",
        "    texts_a = [item['code_a'] for item in batch]\n",
        "    texts_b = [item['code_b'] for item in batch]\n",
        "    labels  = torch.tensor([item['label'] for item in batch])\n",
        "\n",
        "    enc = tokenizer(\n",
        "        texts_a,\n",
        "        texts_b,\n",
        "        padding='max_length',\n",
        "        truncation=True,\n",
        "        max_length=max_len,\n",
        "        return_tensors='pt'\n",
        "    )\n",
        "    enc['labels'] = labels\n",
        "    return enc\n"
      ]
    },
    {
      "cell_type": "code",
      "execution_count": 37,
      "metadata": {},
      "outputs": [],
      "source": [
        "class EmbeddedDataset(Dataset):\n",
        "  def __init__(self, path):\n",
        "    data = torch.load(path)\n",
        "    self.originals = data['originals']\n",
        "    self.untrusted = data['untrusted']\n",
        "    self.labels = data['labels']\n",
        "\n",
        "  def __len__(self):\n",
        "    return len(self.labels)\n",
        "\n",
        "  def __getitem__(self, idx):\n",
        "    return {\n",
        "      'original': self.originals[idx],\n",
        "      'untrusted': self.untrusted[idx],\n",
        "      'label': self.labels[idx],\n",
        "    }"
      ]
    },
    {
      "cell_type": "code",
      "execution_count": 38,
      "metadata": {
        "id": "0ZtNQdVJFx9A"
      },
      "outputs": [],
      "source": [
        "train_dataset = TokenizedDataset(train)\n",
        "test_dataset = TokenizedDataset(test)\n",
        "\n",
        "train_loader = DataLoader(train_dataset, batch_size=16, shuffle=True,\n",
        "                          collate_fn=collate_fn)\n",
        "test_loader  = DataLoader(test_dataset,  batch_size=16,\n",
        "                          collate_fn=collate_fn)\n"
      ]
    },
    {
      "cell_type": "markdown",
      "metadata": {},
      "source": [
        "# Training"
      ]
    },
    {
      "cell_type": "markdown",
      "metadata": {},
      "source": [
        "### Choose device for training, NVIDIA, APPLE, or processor"
      ]
    },
    {
      "cell_type": "code",
      "execution_count": 39,
      "metadata": {},
      "outputs": [],
      "source": [
        "def best_device() -> torch.device:\n",
        "    \"\"\"mps → cuda → cpu\"\"\"\n",
        "    if torch.backends.mps.is_available():\n",
        "        return torch.device(\"mps\")\n",
        "    if torch.cuda.is_available():\n",
        "        return torch.device(\"cuda\")\n",
        "    return torch.device(\"cpu\")"
      ]
    },
    {
      "cell_type": "code",
      "execution_count": 40,
      "metadata": {},
      "outputs": [],
      "source": [
        "@torch.no_grad()\n",
        "def evaluate(model, dataloader, device):\n",
        "    model.eval()\n",
        "    total_loss, total_correct, total_samples = 0.0, 0, 0\n",
        "\n",
        "    for batch in tqdm(dataloader, desc=\"Eval\", leave=False):\n",
        "        batch = {k: v.to(device) for k, v in batch.items()}\n",
        "        outputs = model(**batch)\n",
        "\n",
        "        loss   = outputs.loss\n",
        "        logits = outputs.logits\n",
        "        labels = batch[\"labels\"]\n",
        "\n",
        "        total_loss   += loss.item() * labels.size(0)\n",
        "        total_correct += (logits.argmax(-1) == labels).sum().item()\n",
        "        total_samples += labels.size(0)\n",
        "\n",
        "    return {\n",
        "        \"loss\": total_loss / total_samples,\n",
        "        \"accuracy\": total_correct / total_samples\n",
        "    }"
      ]
    },
    {
      "cell_type": "markdown",
      "metadata": {},
      "source": [
        "## Config and history (for saving data through trainig)"
      ]
    },
    {
      "cell_type": "code",
      "execution_count": 41,
      "metadata": {},
      "outputs": [
        {
          "name": "stdout",
          "output_type": "stream",
          "text": [
            "Using device → cuda\n"
          ]
        },
        {
          "data": {
            "text/plain": [
              "RobertaForSequenceClassification(\n",
              "  (roberta): RobertaModel(\n",
              "    (embeddings): RobertaEmbeddings(\n",
              "      (word_embeddings): Embedding(52000, 768, padding_idx=1)\n",
              "      (position_embeddings): Embedding(514, 768, padding_idx=1)\n",
              "      (token_type_embeddings): Embedding(1, 768)\n",
              "      (LayerNorm): LayerNorm((768,), eps=1e-05, elementwise_affine=True)\n",
              "      (dropout): Dropout(p=0.1, inplace=False)\n",
              "    )\n",
              "    (encoder): RobertaEncoder(\n",
              "      (layer): ModuleList(\n",
              "        (0-5): 6 x RobertaLayer(\n",
              "          (attention): RobertaAttention(\n",
              "            (self): RobertaSdpaSelfAttention(\n",
              "              (query): Linear(in_features=768, out_features=768, bias=True)\n",
              "              (key): Linear(in_features=768, out_features=768, bias=True)\n",
              "              (value): Linear(in_features=768, out_features=768, bias=True)\n",
              "              (dropout): Dropout(p=0.1, inplace=False)\n",
              "            )\n",
              "            (output): RobertaSelfOutput(\n",
              "              (dense): Linear(in_features=768, out_features=768, bias=True)\n",
              "              (LayerNorm): LayerNorm((768,), eps=1e-05, elementwise_affine=True)\n",
              "              (dropout): Dropout(p=0.1, inplace=False)\n",
              "            )\n",
              "          )\n",
              "          (intermediate): RobertaIntermediate(\n",
              "            (dense): Linear(in_features=768, out_features=3072, bias=True)\n",
              "            (intermediate_act_fn): GELUActivation()\n",
              "          )\n",
              "          (output): RobertaOutput(\n",
              "            (dense): Linear(in_features=3072, out_features=768, bias=True)\n",
              "            (LayerNorm): LayerNorm((768,), eps=1e-05, elementwise_affine=True)\n",
              "            (dropout): Dropout(p=0.1, inplace=False)\n",
              "          )\n",
              "        )\n",
              "      )\n",
              "    )\n",
              "  )\n",
              "  (classifier): RobertaClassificationHead(\n",
              "    (dense): Linear(in_features=768, out_features=768, bias=True)\n",
              "    (dropout): Dropout(p=0.1, inplace=False)\n",
              "    (out_proj): Linear(in_features=768, out_features=2, bias=True)\n",
              "  )\n",
              ")"
            ]
          },
          "execution_count": 41,
          "metadata": {},
          "output_type": "execute_result"
        }
      ],
      "source": [
        "EPOCHS = 100\n",
        "history = {k: [] for k in (\n",
        "    \"train_loss\", \"test_loss\", \"train_accuracy\", \"test_accuracy\"\n",
        ")}\n",
        "\n",
        "optimizer = AdamW(model.parameters(), lr=2e-5)\n",
        "scheduler = get_linear_schedule_with_warmup(\n",
        "    optimizer,\n",
        "    num_warmup_steps=0,\n",
        "    num_training_steps=len(train_loader) * EPOCHS,\n",
        ")\n",
        "\n",
        "device = best_device()\n",
        "print(f\"Using device → {device}\", flush=True)\n",
        "model.to(device)"
      ]
    },
    {
      "cell_type": "markdown",
      "metadata": {},
      "source": [
        "## Training loop"
      ]
    },
    {
      "cell_type": "code",
      "execution_count": 42,
      "metadata": {},
      "outputs": [
        {
          "name": "stderr",
          "output_type": "stream",
          "text": [
            "Epochs:   0%|          | 0/100 [00:00<?, ?it/s]"
          ]
        },
        {
          "name": "stdout",
          "output_type": "stream",
          "text": [
            "Epoch 01 | train loss 0.5348 – acc 0.754 | test loss  0.5731 – acc 0.738\n"
          ]
        },
        {
          "name": "stderr",
          "output_type": "stream",
          "text": [
            "Epochs:   1%|          | 1/100 [00:20<34:02, 20.63s/it]"
          ]
        },
        {
          "name": "stdout",
          "output_type": "stream",
          "text": [
            "Epoch 02 | train loss 0.3748 – acc 0.861 | test loss  0.4431 – acc 0.818\n"
          ]
        },
        {
          "name": "stderr",
          "output_type": "stream",
          "text": [
            "Epochs:   2%|▏         | 2/100 [00:42<34:34, 21.17s/it]"
          ]
        },
        {
          "name": "stdout",
          "output_type": "stream",
          "text": [
            "Epoch 03 | train loss 0.3320 – acc 0.870 | test loss  0.5104 – acc 0.800\n"
          ]
        },
        {
          "name": "stderr",
          "output_type": "stream",
          "text": [
            "Epochs:   3%|▎         | 3/100 [01:02<33:40, 20.83s/it]"
          ]
        },
        {
          "name": "stdout",
          "output_type": "stream",
          "text": [
            "Epoch 04 | train loss 0.1425 – acc 0.957 | test loss  0.3371 – acc 0.876\n"
          ]
        },
        {
          "name": "stderr",
          "output_type": "stream",
          "text": [
            "Epochs:   4%|▍         | 4/100 [01:22<33:02, 20.65s/it]"
          ]
        },
        {
          "name": "stdout",
          "output_type": "stream",
          "text": [
            "Epoch 05 | train loss 0.1157 – acc 0.969 | test loss  0.3109 – acc 0.895\n"
          ]
        },
        {
          "name": "stderr",
          "output_type": "stream",
          "text": [
            "Epochs:   5%|▌         | 5/100 [01:43<32:36, 20.59s/it]"
          ]
        },
        {
          "name": "stdout",
          "output_type": "stream",
          "text": [
            "Epoch 06 | train loss 0.0643 – acc 0.982 | test loss  0.3727 – acc 0.862\n"
          ]
        },
        {
          "name": "stderr",
          "output_type": "stream",
          "text": [
            "Epochs:   6%|▌         | 6/100 [02:03<32:07, 20.51s/it]"
          ]
        },
        {
          "name": "stdout",
          "output_type": "stream",
          "text": [
            "Epoch 07 | train loss 0.0602 – acc 0.979 | test loss  0.4678 – acc 0.876\n"
          ]
        },
        {
          "name": "stderr",
          "output_type": "stream",
          "text": [
            "Epochs:   7%|▋         | 7/100 [02:24<31:43, 20.47s/it]"
          ]
        },
        {
          "name": "stdout",
          "output_type": "stream",
          "text": [
            "Epoch 08 | train loss 0.0520 – acc 0.981 | test loss  0.4669 – acc 0.836\n"
          ]
        },
        {
          "name": "stderr",
          "output_type": "stream",
          "text": [
            "Epochs:   8%|▊         | 8/100 [02:44<31:17, 20.41s/it]"
          ]
        },
        {
          "name": "stdout",
          "output_type": "stream",
          "text": [
            "Epoch 09 | train loss 0.0127 – acc 0.996 | test loss  0.4591 – acc 0.884\n"
          ]
        },
        {
          "name": "stderr",
          "output_type": "stream",
          "text": [
            "Epochs:   9%|▉         | 9/100 [03:04<30:52, 20.36s/it]"
          ]
        },
        {
          "name": "stdout",
          "output_type": "stream",
          "text": [
            "Epoch 10 | train loss 0.0460 – acc 0.980 | test loss  0.5882 – acc 0.858\n"
          ]
        },
        {
          "name": "stderr",
          "output_type": "stream",
          "text": [
            "Epochs:  10%|█         | 10/100 [03:25<30:33, 20.37s/it]"
          ]
        },
        {
          "name": "stdout",
          "output_type": "stream",
          "text": [
            "Epoch 11 | train loss 0.0110 – acc 0.996 | test loss  0.4750 – acc 0.895\n"
          ]
        },
        {
          "name": "stderr",
          "output_type": "stream",
          "text": [
            "Epochs:  11%|█         | 11/100 [03:46<30:37, 20.65s/it]"
          ]
        },
        {
          "name": "stdout",
          "output_type": "stream",
          "text": [
            "Epoch 12 | train loss 0.0064 – acc 0.998 | test loss  0.5704 – acc 0.891\n"
          ]
        },
        {
          "name": "stderr",
          "output_type": "stream",
          "text": [
            "Epochs:  12%|█▏        | 12/100 [04:06<30:14, 20.62s/it]"
          ]
        },
        {
          "name": "stdout",
          "output_type": "stream",
          "text": [
            "Epoch 13 | train loss 0.0139 – acc 0.993 | test loss  0.5855 – acc 0.876\n"
          ]
        },
        {
          "name": "stderr",
          "output_type": "stream",
          "text": [
            "Epochs:  13%|█▎        | 13/100 [04:27<29:50, 20.58s/it]"
          ]
        },
        {
          "name": "stdout",
          "output_type": "stream",
          "text": [
            "Epoch 14 | train loss 0.0117 – acc 0.998 | test loss  0.4490 – acc 0.891\n"
          ]
        },
        {
          "name": "stderr",
          "output_type": "stream",
          "text": [
            "Epochs:  14%|█▍        | 14/100 [04:47<29:23, 20.50s/it]"
          ]
        },
        {
          "name": "stdout",
          "output_type": "stream",
          "text": [
            "Epoch 15 | train loss 0.0062 – acc 0.996 | test loss  0.5463 – acc 0.873\n"
          ]
        },
        {
          "name": "stderr",
          "output_type": "stream",
          "text": [
            "Epochs:  15%|█▌        | 15/100 [05:08<29:03, 20.51s/it]"
          ]
        },
        {
          "name": "stdout",
          "output_type": "stream",
          "text": [
            "Epoch 16 | train loss 0.0046 – acc 0.998 | test loss  0.6490 – acc 0.884\n"
          ]
        },
        {
          "name": "stderr",
          "output_type": "stream",
          "text": [
            "Epochs:  16%|█▌        | 16/100 [05:28<28:40, 20.48s/it]"
          ]
        },
        {
          "name": "stdout",
          "output_type": "stream",
          "text": [
            "Epoch 17 | train loss 0.0164 – acc 0.994 | test loss  0.5374 – acc 0.869\n"
          ]
        },
        {
          "name": "stderr",
          "output_type": "stream",
          "text": [
            "Epochs:  17%|█▋        | 17/100 [05:49<28:17, 20.45s/it]"
          ]
        },
        {
          "name": "stdout",
          "output_type": "stream",
          "text": [
            "Epoch 18 | train loss 0.0040 – acc 0.998 | test loss  0.6090 – acc 0.880\n"
          ]
        },
        {
          "name": "stderr",
          "output_type": "stream",
          "text": [
            "Epochs:  18%|█▊        | 18/100 [06:09<27:54, 20.42s/it]"
          ]
        },
        {
          "name": "stdout",
          "output_type": "stream",
          "text": [
            "Epoch 19 | train loss 0.0072 – acc 0.999 | test loss  0.5670 – acc 0.895\n"
          ]
        },
        {
          "name": "stderr",
          "output_type": "stream",
          "text": [
            "Epochs:  19%|█▉        | 19/100 [06:29<27:34, 20.42s/it]"
          ]
        },
        {
          "name": "stdout",
          "output_type": "stream",
          "text": [
            "Epoch 20 | train loss 0.0111 – acc 0.998 | test loss  0.5837 – acc 0.891\n"
          ]
        },
        {
          "name": "stderr",
          "output_type": "stream",
          "text": [
            "Epochs:  20%|██        | 20/100 [06:50<27:22, 20.53s/it]"
          ]
        },
        {
          "name": "stdout",
          "output_type": "stream",
          "text": [
            "Epoch 21 | train loss 0.0019 – acc 0.999 | test loss  0.5944 – acc 0.887\n"
          ]
        },
        {
          "name": "stderr",
          "output_type": "stream",
          "text": [
            "Epochs:  21%|██        | 21/100 [07:10<26:43, 20.30s/it]"
          ]
        },
        {
          "name": "stdout",
          "output_type": "stream",
          "text": [
            "Epoch 22 | train loss 0.0013 – acc 0.999 | test loss  0.6711 – acc 0.895\n"
          ]
        },
        {
          "name": "stderr",
          "output_type": "stream",
          "text": [
            "Epochs:  22%|██▏       | 22/100 [07:30<26:11, 20.15s/it]"
          ]
        },
        {
          "name": "stdout",
          "output_type": "stream",
          "text": [
            "Epoch 23 | train loss 0.0010 – acc 1.000 | test loss  0.6671 – acc 0.905\n"
          ]
        },
        {
          "name": "stderr",
          "output_type": "stream",
          "text": [
            "Epochs:  23%|██▎       | 23/100 [07:50<25:44, 20.06s/it]"
          ]
        },
        {
          "name": "stdout",
          "output_type": "stream",
          "text": [
            "Epoch 24 | train loss 0.0007 – acc 1.000 | test loss  0.6865 – acc 0.876\n"
          ]
        },
        {
          "name": "stderr",
          "output_type": "stream",
          "text": [
            "Epochs:  24%|██▍       | 24/100 [08:09<25:16, 19.95s/it]"
          ]
        },
        {
          "name": "stdout",
          "output_type": "stream",
          "text": [
            "Epoch 25 | train loss 0.0006 – acc 1.000 | test loss  0.7975 – acc 0.880\n"
          ]
        },
        {
          "name": "stderr",
          "output_type": "stream",
          "text": [
            "Epochs:  25%|██▌       | 25/100 [08:29<24:55, 19.94s/it]"
          ]
        },
        {
          "name": "stdout",
          "output_type": "stream",
          "text": [
            "Epoch 26 | train loss 0.0091 – acc 0.998 | test loss  0.6951 – acc 0.880\n"
          ]
        },
        {
          "name": "stderr",
          "output_type": "stream",
          "text": [
            "Epochs:  26%|██▌       | 26/100 [08:49<24:33, 19.91s/it]"
          ]
        },
        {
          "name": "stdout",
          "output_type": "stream",
          "text": [
            "Epoch 27 | train loss 0.0062 – acc 0.998 | test loss  0.5770 – acc 0.876\n"
          ]
        },
        {
          "name": "stderr",
          "output_type": "stream",
          "text": [
            "Epochs:  27%|██▋       | 27/100 [09:09<24:09, 19.86s/it]"
          ]
        },
        {
          "name": "stdout",
          "output_type": "stream",
          "text": [
            "Epoch 28 | train loss 0.0097 – acc 0.997 | test loss  0.6581 – acc 0.873\n"
          ]
        },
        {
          "name": "stderr",
          "output_type": "stream",
          "text": [
            "Epochs:  28%|██▊       | 28/100 [09:29<24:04, 20.07s/it]"
          ]
        },
        {
          "name": "stdout",
          "output_type": "stream",
          "text": [
            "Epoch 29 | train loss 0.0299 – acc 0.989 | test loss  0.7823 – acc 0.833\n"
          ]
        },
        {
          "name": "stderr",
          "output_type": "stream",
          "text": [
            "Epochs:  29%|██▉       | 29/100 [09:49<23:44, 20.06s/it]"
          ]
        },
        {
          "name": "stdout",
          "output_type": "stream",
          "text": [
            "Epoch 30 | train loss 0.0578 – acc 0.984 | test loss  0.8871 – acc 0.822\n"
          ]
        },
        {
          "name": "stderr",
          "output_type": "stream",
          "text": [
            "Epochs:  30%|███       | 30/100 [10:09<23:19, 19.99s/it]"
          ]
        },
        {
          "name": "stdout",
          "output_type": "stream",
          "text": [
            "Epoch 31 | train loss 0.0027 – acc 0.999 | test loss  0.5606 – acc 0.884\n"
          ]
        },
        {
          "name": "stderr",
          "output_type": "stream",
          "text": [
            "Epochs:  31%|███       | 31/100 [10:29<22:56, 19.94s/it]"
          ]
        },
        {
          "name": "stdout",
          "output_type": "stream",
          "text": [
            "Epoch 32 | train loss 0.0004 – acc 1.000 | test loss  0.6104 – acc 0.887\n"
          ]
        },
        {
          "name": "stderr",
          "output_type": "stream",
          "text": [
            "Epochs:  32%|███▏      | 32/100 [10:49<22:30, 19.87s/it]"
          ]
        },
        {
          "name": "stdout",
          "output_type": "stream",
          "text": [
            "Epoch 33 | train loss 0.0018 – acc 0.999 | test loss  0.6540 – acc 0.884\n"
          ]
        },
        {
          "name": "stderr",
          "output_type": "stream",
          "text": [
            "Epochs:  33%|███▎      | 33/100 [11:09<22:12, 19.89s/it]"
          ]
        },
        {
          "name": "stdout",
          "output_type": "stream",
          "text": [
            "Epoch 34 | train loss 0.0002 – acc 1.000 | test loss  0.6597 – acc 0.880\n"
          ]
        },
        {
          "name": "stderr",
          "output_type": "stream",
          "text": [
            "Epochs:  34%|███▍      | 34/100 [11:28<21:49, 19.84s/it]"
          ]
        },
        {
          "name": "stdout",
          "output_type": "stream",
          "text": [
            "Epoch 35 | train loss 0.0001 – acc 1.000 | test loss  0.6756 – acc 0.887\n"
          ]
        },
        {
          "name": "stderr",
          "output_type": "stream",
          "text": [
            "Epochs:  35%|███▌      | 35/100 [11:48<21:27, 19.81s/it]"
          ]
        },
        {
          "name": "stdout",
          "output_type": "stream",
          "text": [
            "Epoch 36 | train loss 0.0001 – acc 1.000 | test loss  0.7053 – acc 0.880\n"
          ]
        },
        {
          "name": "stderr",
          "output_type": "stream",
          "text": [
            "Epochs:  36%|███▌      | 36/100 [12:08<21:09, 19.83s/it]"
          ]
        },
        {
          "name": "stdout",
          "output_type": "stream",
          "text": [
            "Epoch 37 | train loss 0.0001 – acc 1.000 | test loss  0.7210 – acc 0.880\n"
          ]
        },
        {
          "name": "stderr",
          "output_type": "stream",
          "text": [
            "Epochs:  37%|███▋      | 37/100 [12:28<20:47, 19.79s/it]"
          ]
        },
        {
          "name": "stdout",
          "output_type": "stream",
          "text": [
            "Epoch 38 | train loss 0.0001 – acc 1.000 | test loss  0.7345 – acc 0.880\n"
          ]
        },
        {
          "name": "stderr",
          "output_type": "stream",
          "text": [
            "Epochs:  38%|███▊      | 38/100 [12:47<20:26, 19.77s/it]"
          ]
        },
        {
          "name": "stdout",
          "output_type": "stream",
          "text": [
            "Epoch 39 | train loss 0.0001 – acc 1.000 | test loss  0.7424 – acc 0.880\n"
          ]
        },
        {
          "name": "stderr",
          "output_type": "stream",
          "text": [
            "Epochs:  39%|███▉      | 39/100 [13:08<20:27, 20.13s/it]"
          ]
        },
        {
          "name": "stdout",
          "output_type": "stream",
          "text": [
            "Epoch 40 | train loss 0.0001 – acc 1.000 | test loss  0.7497 – acc 0.884\n"
          ]
        },
        {
          "name": "stderr",
          "output_type": "stream",
          "text": [
            "Epochs:  40%|████      | 40/100 [13:28<19:59, 19.99s/it]"
          ]
        },
        {
          "name": "stdout",
          "output_type": "stream",
          "text": [
            "Epoch 41 | train loss 0.0001 – acc 1.000 | test loss  0.7447 – acc 0.887\n"
          ]
        },
        {
          "name": "stderr",
          "output_type": "stream",
          "text": [
            "Epochs:  41%|████      | 41/100 [13:48<19:37, 19.96s/it]"
          ]
        },
        {
          "name": "stdout",
          "output_type": "stream",
          "text": [
            "Epoch 42 | train loss 0.0001 – acc 1.000 | test loss  0.7632 – acc 0.884\n"
          ]
        },
        {
          "name": "stderr",
          "output_type": "stream",
          "text": [
            "Epochs:  42%|████▏     | 42/100 [14:08<19:13, 19.89s/it]"
          ]
        },
        {
          "name": "stdout",
          "output_type": "stream",
          "text": [
            "Epoch 43 | train loss 0.0000 – acc 1.000 | test loss  0.7695 – acc 0.884\n"
          ]
        },
        {
          "name": "stderr",
          "output_type": "stream",
          "text": [
            "Epochs:  43%|████▎     | 43/100 [14:28<18:53, 19.88s/it]"
          ]
        },
        {
          "name": "stdout",
          "output_type": "stream",
          "text": [
            "Epoch 44 | train loss 0.0000 – acc 1.000 | test loss  0.7818 – acc 0.876\n"
          ]
        },
        {
          "name": "stderr",
          "output_type": "stream",
          "text": [
            "Epochs:  44%|████▍     | 44/100 [14:47<18:33, 19.89s/it]"
          ]
        },
        {
          "name": "stdout",
          "output_type": "stream",
          "text": [
            "Epoch 45 | train loss 0.0000 – acc 1.000 | test loss  0.7838 – acc 0.876\n"
          ]
        },
        {
          "name": "stderr",
          "output_type": "stream",
          "text": [
            "Epochs:  45%|████▌     | 45/100 [15:07<18:11, 19.84s/it]"
          ]
        },
        {
          "name": "stdout",
          "output_type": "stream",
          "text": [
            "Epoch 46 | train loss 0.0037 – acc 0.999 | test loss  0.8410 – acc 0.880\n"
          ]
        },
        {
          "name": "stderr",
          "output_type": "stream",
          "text": [
            "Epochs:  46%|████▌     | 46/100 [15:27<17:51, 19.85s/it]"
          ]
        },
        {
          "name": "stdout",
          "output_type": "stream",
          "text": [
            "Epoch 47 | train loss 0.0061 – acc 0.998 | test loss  0.6779 – acc 0.873\n"
          ]
        },
        {
          "name": "stderr",
          "output_type": "stream",
          "text": [
            "Epochs:  47%|████▋     | 47/100 [15:47<17:28, 19.79s/it]"
          ]
        },
        {
          "name": "stdout",
          "output_type": "stream",
          "text": [
            "Epoch 48 | train loss 0.0006 – acc 1.000 | test loss  0.7095 – acc 0.869\n"
          ]
        },
        {
          "name": "stderr",
          "output_type": "stream",
          "text": [
            "Epochs:  48%|████▊     | 48/100 [16:06<17:06, 19.75s/it]"
          ]
        },
        {
          "name": "stdout",
          "output_type": "stream",
          "text": [
            "Epoch 49 | train loss 0.0083 – acc 0.996 | test loss  0.6186 – acc 0.880\n"
          ]
        },
        {
          "name": "stderr",
          "output_type": "stream",
          "text": [
            "Epochs:  49%|████▉     | 49/100 [16:26<16:48, 19.78s/it]"
          ]
        },
        {
          "name": "stdout",
          "output_type": "stream",
          "text": [
            "Epoch 50 | train loss 0.0002 – acc 1.000 | test loss  0.6385 – acc 0.898\n"
          ]
        },
        {
          "name": "stderr",
          "output_type": "stream",
          "text": [
            "Epochs:  50%|█████     | 50/100 [16:46<16:25, 19.71s/it]"
          ]
        },
        {
          "name": "stdout",
          "output_type": "stream",
          "text": [
            "Epoch 51 | train loss 0.0006 – acc 1.000 | test loss  0.6627 – acc 0.873\n"
          ]
        },
        {
          "name": "stderr",
          "output_type": "stream",
          "text": [
            "Epochs:  51%|█████     | 51/100 [17:05<16:06, 19.72s/it]"
          ]
        },
        {
          "name": "stdout",
          "output_type": "stream",
          "text": [
            "Epoch 52 | train loss 0.0002 – acc 1.000 | test loss  0.6372 – acc 0.891\n"
          ]
        },
        {
          "name": "stderr",
          "output_type": "stream",
          "text": [
            "Epochs:  52%|█████▏    | 52/100 [17:25<15:47, 19.73s/it]"
          ]
        },
        {
          "name": "stdout",
          "output_type": "stream",
          "text": [
            "Epoch 53 | train loss 0.0001 – acc 1.000 | test loss  0.6631 – acc 0.895\n"
          ]
        },
        {
          "name": "stderr",
          "output_type": "stream",
          "text": [
            "Epochs:  53%|█████▎    | 53/100 [17:45<15:24, 19.67s/it]"
          ]
        },
        {
          "name": "stdout",
          "output_type": "stream",
          "text": [
            "Epoch 54 | train loss 0.0001 – acc 1.000 | test loss  0.6582 – acc 0.895\n"
          ]
        },
        {
          "name": "stderr",
          "output_type": "stream",
          "text": [
            "Epochs:  54%|█████▍    | 54/100 [18:05<15:07, 19.72s/it]"
          ]
        },
        {
          "name": "stdout",
          "output_type": "stream",
          "text": [
            "Epoch 55 | train loss 0.0001 – acc 1.000 | test loss  0.6892 – acc 0.869\n"
          ]
        },
        {
          "name": "stderr",
          "output_type": "stream",
          "text": [
            "Epochs:  55%|█████▌    | 55/100 [18:24<14:47, 19.71s/it]"
          ]
        },
        {
          "name": "stdout",
          "output_type": "stream",
          "text": [
            "Epoch 56 | train loss 0.0002 – acc 1.000 | test loss  0.7390 – acc 0.880\n"
          ]
        },
        {
          "name": "stderr",
          "output_type": "stream",
          "text": [
            "Epochs:  56%|█████▌    | 56/100 [18:44<14:26, 19.69s/it]"
          ]
        },
        {
          "name": "stdout",
          "output_type": "stream",
          "text": [
            "Epoch 57 | train loss 0.0001 – acc 1.000 | test loss  0.7434 – acc 0.873\n"
          ]
        },
        {
          "name": "stderr",
          "output_type": "stream",
          "text": [
            "Epochs:  57%|█████▋    | 57/100 [19:04<14:07, 19.72s/it]"
          ]
        },
        {
          "name": "stdout",
          "output_type": "stream",
          "text": [
            "Epoch 58 | train loss 0.0001 – acc 1.000 | test loss  0.7646 – acc 0.858\n"
          ]
        },
        {
          "name": "stderr",
          "output_type": "stream",
          "text": [
            "Epochs:  58%|█████▊    | 58/100 [19:23<13:45, 19.66s/it]"
          ]
        },
        {
          "name": "stdout",
          "output_type": "stream",
          "text": [
            "Epoch 59 | train loss 0.0001 – acc 1.000 | test loss  0.7492 – acc 0.869\n"
          ]
        },
        {
          "name": "stderr",
          "output_type": "stream",
          "text": [
            "Epochs:  59%|█████▉    | 59/100 [19:43<13:27, 19.69s/it]"
          ]
        },
        {
          "name": "stdout",
          "output_type": "stream",
          "text": [
            "Epoch 60 | train loss 0.0001 – acc 1.000 | test loss  0.7538 – acc 0.873\n"
          ]
        },
        {
          "name": "stderr",
          "output_type": "stream",
          "text": [
            "Epochs:  60%|██████    | 60/100 [20:03<13:07, 19.69s/it]"
          ]
        },
        {
          "name": "stdout",
          "output_type": "stream",
          "text": [
            "Epoch 61 | train loss 0.0000 – acc 1.000 | test loss  0.7575 – acc 0.880\n"
          ]
        },
        {
          "name": "stderr",
          "output_type": "stream",
          "text": [
            "Epochs:  61%|██████    | 61/100 [20:22<12:46, 19.65s/it]"
          ]
        },
        {
          "name": "stdout",
          "output_type": "stream",
          "text": [
            "Epoch 62 | train loss 0.0000 – acc 1.000 | test loss  0.7715 – acc 0.865\n"
          ]
        },
        {
          "name": "stderr",
          "output_type": "stream",
          "text": [
            "Epochs:  62%|██████▏   | 62/100 [20:42<12:28, 19.69s/it]"
          ]
        },
        {
          "name": "stdout",
          "output_type": "stream",
          "text": [
            "Epoch 63 | train loss 0.0013 – acc 1.000 | test loss  0.7725 – acc 0.880\n"
          ]
        },
        {
          "name": "stderr",
          "output_type": "stream",
          "text": [
            "Epochs:  63%|██████▎   | 63/100 [21:02<12:07, 19.67s/it]"
          ]
        },
        {
          "name": "stdout",
          "output_type": "stream",
          "text": [
            "Epoch 64 | train loss 0.0004 – acc 1.000 | test loss  0.7944 – acc 0.873\n"
          ]
        },
        {
          "name": "stderr",
          "output_type": "stream",
          "text": [
            "Epochs:  64%|██████▍   | 64/100 [21:21<11:47, 19.66s/it]"
          ]
        },
        {
          "name": "stdout",
          "output_type": "stream",
          "text": [
            "Epoch 65 | train loss 0.0001 – acc 1.000 | test loss  0.8074 – acc 0.891\n"
          ]
        },
        {
          "name": "stderr",
          "output_type": "stream",
          "text": [
            "Epochs:  65%|██████▌   | 65/100 [21:41<11:29, 19.70s/it]"
          ]
        },
        {
          "name": "stdout",
          "output_type": "stream",
          "text": [
            "Epoch 66 | train loss 0.0003 – acc 1.000 | test loss  0.7952 – acc 0.869\n"
          ]
        },
        {
          "name": "stderr",
          "output_type": "stream",
          "text": [
            "Epochs:  66%|██████▌   | 66/100 [22:01<11:08, 19.65s/it]"
          ]
        },
        {
          "name": "stdout",
          "output_type": "stream",
          "text": [
            "Epoch 67 | train loss 0.0001 – acc 1.000 | test loss  0.8027 – acc 0.876\n"
          ]
        },
        {
          "name": "stderr",
          "output_type": "stream",
          "text": [
            "Epochs:  67%|██████▋   | 67/100 [22:20<10:49, 19.68s/it]"
          ]
        },
        {
          "name": "stdout",
          "output_type": "stream",
          "text": [
            "Epoch 68 | train loss 0.0000 – acc 1.000 | test loss  0.8146 – acc 0.884\n"
          ]
        },
        {
          "name": "stderr",
          "output_type": "stream",
          "text": [
            "Epochs:  68%|██████▊   | 68/100 [22:40<10:29, 19.68s/it]"
          ]
        },
        {
          "name": "stdout",
          "output_type": "stream",
          "text": [
            "Epoch 69 | train loss 0.0000 – acc 1.000 | test loss  0.8128 – acc 0.884\n"
          ]
        },
        {
          "name": "stderr",
          "output_type": "stream",
          "text": [
            "Epochs:  69%|██████▉   | 69/100 [23:00<10:08, 19.64s/it]"
          ]
        },
        {
          "name": "stdout",
          "output_type": "stream",
          "text": [
            "Epoch 70 | train loss 0.0000 – acc 1.000 | test loss  0.8073 – acc 0.880\n"
          ]
        },
        {
          "name": "stderr",
          "output_type": "stream",
          "text": [
            "Epochs:  70%|███████   | 70/100 [23:19<09:50, 19.69s/it]"
          ]
        },
        {
          "name": "stdout",
          "output_type": "stream",
          "text": [
            "Epoch 71 | train loss 0.0000 – acc 1.000 | test loss  0.8118 – acc 0.884\n"
          ]
        },
        {
          "name": "stderr",
          "output_type": "stream",
          "text": [
            "Epochs:  71%|███████   | 71/100 [23:39<09:29, 19.65s/it]"
          ]
        },
        {
          "name": "stdout",
          "output_type": "stream",
          "text": [
            "Epoch 72 | train loss 0.0000 – acc 1.000 | test loss  0.8132 – acc 0.876\n"
          ]
        },
        {
          "name": "stderr",
          "output_type": "stream",
          "text": [
            "Epochs:  72%|███████▏  | 72/100 [23:59<09:09, 19.64s/it]"
          ]
        },
        {
          "name": "stdout",
          "output_type": "stream",
          "text": [
            "Epoch 73 | train loss 0.0000 – acc 1.000 | test loss  0.8159 – acc 0.880\n"
          ]
        },
        {
          "name": "stderr",
          "output_type": "stream",
          "text": [
            "Epochs:  73%|███████▎  | 73/100 [24:18<08:51, 19.68s/it]"
          ]
        },
        {
          "name": "stdout",
          "output_type": "stream",
          "text": [
            "Epoch 74 | train loss 0.0000 – acc 1.000 | test loss  0.8193 – acc 0.887\n"
          ]
        },
        {
          "name": "stderr",
          "output_type": "stream",
          "text": [
            "Epochs:  74%|███████▍  | 74/100 [24:38<08:30, 19.64s/it]"
          ]
        },
        {
          "name": "stdout",
          "output_type": "stream",
          "text": [
            "Epoch 75 | train loss 0.0000 – acc 1.000 | test loss  0.8257 – acc 0.880\n"
          ]
        },
        {
          "name": "stderr",
          "output_type": "stream",
          "text": [
            "Epochs:  75%|███████▌  | 75/100 [24:58<08:11, 19.67s/it]"
          ]
        },
        {
          "name": "stdout",
          "output_type": "stream",
          "text": [
            "Epoch 76 | train loss 0.0000 – acc 1.000 | test loss  0.8294 – acc 0.880\n"
          ]
        },
        {
          "name": "stderr",
          "output_type": "stream",
          "text": [
            "Epochs:  76%|███████▌  | 76/100 [25:17<07:52, 19.68s/it]"
          ]
        },
        {
          "name": "stdout",
          "output_type": "stream",
          "text": [
            "Epoch 77 | train loss 0.0000 – acc 1.000 | test loss  0.8332 – acc 0.880\n"
          ]
        },
        {
          "name": "stderr",
          "output_type": "stream",
          "text": [
            "Epochs:  77%|███████▋  | 77/100 [25:37<07:32, 19.65s/it]"
          ]
        },
        {
          "name": "stdout",
          "output_type": "stream",
          "text": [
            "Epoch 78 | train loss 0.0000 – acc 1.000 | test loss  0.8355 – acc 0.884\n"
          ]
        },
        {
          "name": "stderr",
          "output_type": "stream",
          "text": [
            "Epochs:  78%|███████▊  | 78/100 [25:57<07:13, 19.69s/it]"
          ]
        },
        {
          "name": "stdout",
          "output_type": "stream",
          "text": [
            "Epoch 79 | train loss 0.0000 – acc 1.000 | test loss  0.8381 – acc 0.887\n"
          ]
        },
        {
          "name": "stderr",
          "output_type": "stream",
          "text": [
            "Epochs:  79%|███████▉  | 79/100 [26:16<06:52, 19.65s/it]"
          ]
        },
        {
          "name": "stdout",
          "output_type": "stream",
          "text": [
            "Epoch 80 | train loss 0.0000 – acc 1.000 | test loss  0.8405 – acc 0.887\n"
          ]
        },
        {
          "name": "stderr",
          "output_type": "stream",
          "text": [
            "Epochs:  80%|████████  | 80/100 [26:36<06:32, 19.65s/it]"
          ]
        },
        {
          "name": "stdout",
          "output_type": "stream",
          "text": [
            "Epoch 81 | train loss 0.0000 – acc 1.000 | test loss  0.8524 – acc 0.876\n"
          ]
        },
        {
          "name": "stderr",
          "output_type": "stream",
          "text": [
            "Epochs:  81%|████████  | 81/100 [26:56<06:14, 19.69s/it]"
          ]
        },
        {
          "name": "stdout",
          "output_type": "stream",
          "text": [
            "Epoch 82 | train loss 0.0000 – acc 1.000 | test loss  0.8557 – acc 0.876\n"
          ]
        },
        {
          "name": "stderr",
          "output_type": "stream",
          "text": [
            "Epochs:  82%|████████▏ | 82/100 [27:15<05:53, 19.65s/it]"
          ]
        },
        {
          "name": "stdout",
          "output_type": "stream",
          "text": [
            "Epoch 83 | train loss 0.0000 – acc 1.000 | test loss  0.8614 – acc 0.887\n"
          ]
        },
        {
          "name": "stderr",
          "output_type": "stream",
          "text": [
            "Epochs:  83%|████████▎ | 83/100 [27:35<05:34, 19.68s/it]"
          ]
        },
        {
          "name": "stdout",
          "output_type": "stream",
          "text": [
            "Epoch 84 | train loss 0.0000 – acc 1.000 | test loss  0.8647 – acc 0.887\n"
          ]
        },
        {
          "name": "stderr",
          "output_type": "stream",
          "text": [
            "Epochs:  84%|████████▍ | 84/100 [27:55<05:14, 19.67s/it]"
          ]
        },
        {
          "name": "stdout",
          "output_type": "stream",
          "text": [
            "Epoch 85 | train loss 0.0000 – acc 1.000 | test loss  0.8670 – acc 0.884\n"
          ]
        },
        {
          "name": "stderr",
          "output_type": "stream",
          "text": [
            "Epochs:  85%|████████▌ | 85/100 [28:14<04:54, 19.65s/it]"
          ]
        },
        {
          "name": "stdout",
          "output_type": "stream",
          "text": [
            "Epoch 86 | train loss 0.0000 – acc 1.000 | test loss  0.8687 – acc 0.884\n"
          ]
        },
        {
          "name": "stderr",
          "output_type": "stream",
          "text": [
            "Epochs:  86%|████████▌ | 86/100 [28:34<04:35, 19.68s/it]"
          ]
        },
        {
          "name": "stdout",
          "output_type": "stream",
          "text": [
            "Epoch 87 | train loss 0.0000 – acc 1.000 | test loss  0.8703 – acc 0.884\n"
          ]
        },
        {
          "name": "stderr",
          "output_type": "stream",
          "text": [
            "Epochs:  87%|████████▋ | 87/100 [28:54<04:15, 19.66s/it]"
          ]
        },
        {
          "name": "stdout",
          "output_type": "stream",
          "text": [
            "Epoch 88 | train loss 0.0000 – acc 1.000 | test loss  0.8722 – acc 0.884\n"
          ]
        },
        {
          "name": "stderr",
          "output_type": "stream",
          "text": [
            "Epochs:  88%|████████▊ | 88/100 [29:13<03:55, 19.66s/it]"
          ]
        },
        {
          "name": "stdout",
          "output_type": "stream",
          "text": [
            "Epoch 89 | train loss 0.0000 – acc 1.000 | test loss  0.8738 – acc 0.884\n"
          ]
        },
        {
          "name": "stderr",
          "output_type": "stream",
          "text": [
            "Epochs:  89%|████████▉ | 89/100 [29:33<03:36, 19.70s/it]"
          ]
        },
        {
          "name": "stdout",
          "output_type": "stream",
          "text": [
            "Epoch 90 | train loss 0.0000 – acc 1.000 | test loss  0.8749 – acc 0.884\n"
          ]
        },
        {
          "name": "stderr",
          "output_type": "stream",
          "text": [
            "Epochs:  90%|█████████ | 90/100 [29:53<03:16, 19.66s/it]"
          ]
        },
        {
          "name": "stdout",
          "output_type": "stream",
          "text": [
            "Epoch 91 | train loss 0.0000 – acc 1.000 | test loss  0.8761 – acc 0.884\n"
          ]
        },
        {
          "name": "stderr",
          "output_type": "stream",
          "text": [
            "Epochs:  91%|█████████ | 91/100 [30:12<02:57, 19.68s/it]"
          ]
        },
        {
          "name": "stdout",
          "output_type": "stream",
          "text": [
            "Epoch 92 | train loss 0.0000 – acc 1.000 | test loss  0.8775 – acc 0.884\n"
          ]
        },
        {
          "name": "stderr",
          "output_type": "stream",
          "text": [
            "Epochs:  92%|█████████▏| 92/100 [30:32<02:37, 19.69s/it]"
          ]
        },
        {
          "name": "stdout",
          "output_type": "stream",
          "text": [
            "Epoch 93 | train loss 0.0000 – acc 1.000 | test loss  0.8786 – acc 0.884\n"
          ]
        },
        {
          "name": "stderr",
          "output_type": "stream",
          "text": [
            "Epochs:  93%|█████████▎| 93/100 [30:53<02:20, 20.09s/it]"
          ]
        },
        {
          "name": "stdout",
          "output_type": "stream",
          "text": [
            "Epoch 94 | train loss 0.0000 – acc 1.000 | test loss  0.8794 – acc 0.884\n"
          ]
        },
        {
          "name": "stderr",
          "output_type": "stream",
          "text": [
            "Epochs:  94%|█████████▍| 94/100 [31:13<02:00, 20.04s/it]"
          ]
        },
        {
          "name": "stdout",
          "output_type": "stream",
          "text": [
            "Epoch 95 | train loss 0.0000 – acc 1.000 | test loss  0.8801 – acc 0.884\n"
          ]
        },
        {
          "name": "stderr",
          "output_type": "stream",
          "text": [
            "Epochs:  95%|█████████▌| 95/100 [31:33<01:39, 19.95s/it]"
          ]
        },
        {
          "name": "stdout",
          "output_type": "stream",
          "text": [
            "Epoch 96 | train loss 0.0000 – acc 1.000 | test loss  0.8805 – acc 0.884\n"
          ]
        },
        {
          "name": "stderr",
          "output_type": "stream",
          "text": [
            "Epochs:  96%|█████████▌| 96/100 [31:53<01:19, 19.92s/it]"
          ]
        },
        {
          "name": "stdout",
          "output_type": "stream",
          "text": [
            "Epoch 97 | train loss 0.0000 – acc 1.000 | test loss  0.8816 – acc 0.884\n"
          ]
        },
        {
          "name": "stderr",
          "output_type": "stream",
          "text": [
            "Epochs:  97%|█████████▋| 97/100 [32:12<00:59, 19.89s/it]"
          ]
        },
        {
          "name": "stdout",
          "output_type": "stream",
          "text": [
            "Epoch 98 | train loss 0.0000 – acc 1.000 | test loss  0.8818 – acc 0.887\n"
          ]
        },
        {
          "name": "stderr",
          "output_type": "stream",
          "text": [
            "Epochs:  98%|█████████▊| 98/100 [32:32<00:39, 19.84s/it]"
          ]
        },
        {
          "name": "stdout",
          "output_type": "stream",
          "text": [
            "Epoch 99 | train loss 0.0000 – acc 1.000 | test loss  0.8822 – acc 0.887\n"
          ]
        },
        {
          "name": "stderr",
          "output_type": "stream",
          "text": [
            "Epochs:  99%|█████████▉| 99/100 [32:52<00:19, 19.87s/it]"
          ]
        },
        {
          "name": "stdout",
          "output_type": "stream",
          "text": [
            "Epoch 100 | train loss 0.0000 – acc 1.000 | test loss  0.8822 – acc 0.887\n"
          ]
        },
        {
          "name": "stderr",
          "output_type": "stream",
          "text": [
            "Epochs: 100%|██████████| 100/100 [33:12<00:00, 19.92s/it]\n"
          ]
        }
      ],
      "source": [
        "for epoch in trange(EPOCHS, desc=\"Epochs\"):\n",
        "    model.train()\n",
        "\n",
        "    prog = tqdm(\n",
        "        enumerate(train_loader, 1),\n",
        "        total=len(train_loader),\n",
        "        desc=f\"Train {epoch+1}/{EPOCHS}\",\n",
        "        leave=False,\n",
        "    )\n",
        "\n",
        "    for _, batch in prog:\n",
        "        batch = {k: v.to(device) for k, v in batch.items()}\n",
        "        loss  = model(**batch).loss\n",
        "        loss.backward()\n",
        "        optimizer.step()\n",
        "        scheduler.step()\n",
        "        optimizer.zero_grad()\n",
        "        prog.set_postfix(loss=f\"{loss.item():.4f}\")\n",
        "\n",
        "    # ─── end of epoch ──────────────────────────────────────────────\n",
        "    train_metrics = evaluate(model, train_loader, device)\n",
        "    test_metrics  = evaluate(model, test_loader,  device)\n",
        "\n",
        "    history[\"train_loss\"].append(train_metrics[\"loss\"])\n",
        "    history[\"train_accuracy\"].append(train_metrics[\"accuracy\"])\n",
        "    history[\"test_loss\"].append(test_metrics[\"loss\"])\n",
        "    history[\"test_accuracy\"].append(test_metrics[\"accuracy\"])\n",
        "\n",
        "    print(\n",
        "        f\"Epoch {epoch+1:02d} | \"\n",
        "        f\"train loss {train_metrics['loss']:.4f} – acc {train_metrics['accuracy']:.3f} | \"\n",
        "        f\"test loss  {test_metrics['loss']:.4f} – acc {test_metrics['accuracy']:.3f}\",\n",
        "        flush=True,\n",
        "    )\n"
      ]
    },
    {
      "cell_type": "code",
      "execution_count": 43,
      "metadata": {},
      "outputs": [],
      "source": [
        "model.eval()\n",
        "with torch.no_grad():\n",
        "    for batch in test_loader:\n",
        "        batch = {k: v.to(device) for k, v in batch.items()}\n",
        "        logits = model(**batch).logits  # shape [B,2]\n",
        "        preds = logits.argmax(1)\n",
        "        ...\n"
      ]
    },
    {
      "cell_type": "markdown",
      "metadata": {},
      "source": [
        "# Plotting\n"
      ]
    },
    {
      "cell_type": "code",
      "execution_count": 44,
      "metadata": {},
      "outputs": [
        {
          "name": "stdout",
          "output_type": "stream",
          "text": [
            "{'train_loss': [0.5347723723763097, 0.37476535021823687, 0.33199627686591043, 0.14253247387870385, 0.11572946874547178, 0.06426135672215563, 0.06018681442161111, 0.05195295763793435, 0.012688380548812068, 0.046019777398977946, 0.010976847745546133, 0.006446093081642812, 0.013924536828451321, 0.011749612876166502, 0.006168081630769111, 0.004632404993711393, 0.016373210819013228, 0.00403441595587876, 0.007200685566708439, 0.011068108403438321, 0.0019272628973618857, 0.0013140132892910854, 0.0009784298388323114, 0.0006641872563054377, 0.0005789196929583381, 0.00910538977949309, 0.006181376417300045, 0.009749602632007364, 0.029945721602097942, 0.057788260477589934, 0.0026959548587485956, 0.00037525149052078925, 0.0018088003421027254, 0.0001938640037283852, 0.0001419318870604752, 0.00011148255486865562, 9.264803621544075e-05, 8.110206091014268e-05, 7.249205213900058e-05, 6.549566151212262e-05, 6.0060621497567987e-05, 5.3137429673025e-05, 4.809479728166055e-05, 4.4463863008932625e-05, 4.2016350323343684e-05, 0.0037157589388160665, 0.006053071351803459, 0.0006493928533257325, 0.00828477999364981, 0.00024193357393726789, 0.0005946645267971835, 0.00016626128453139325, 0.000125907030796554, 9.112269718524572e-05, 0.00010382395575883506, 0.00017273977894805896, 9.327083997076622e-05, 9.367323521334325e-05, 6.102667920173309e-05, 5.339211717385622e-05, 4.6830056246347136e-05, 4.811474199593322e-05, 0.0013085018071364255, 0.0004292098723998188, 7.423427388300171e-05, 0.0002634071580446189, 6.026223406087723e-05, 3.958605592590281e-05, 3.3954137633087274e-05, 3.4676524751541805e-05, 2.911373417689397e-05, 2.7919248633178453e-05, 2.6601039015103375e-05, 2.6008132342219414e-05, 2.6220924547175797e-05, 2.4485825049545597e-05, 2.3651668879124473e-05, 2.2998034435088142e-05, 2.2402093448887754e-05, 2.1832974921945095e-05, 2.1105273393595447e-05, 2.069061018942293e-05, 2.01880695359071e-05, 1.9563864999413354e-05, 1.9627042882905824e-05, 1.897852689580759e-05, 1.8712611662967038e-05, 1.8458553525830794e-05, 1.816033828571476e-05, 1.7898446657434855e-05, 1.7631007828448055e-05, 1.735889152131922e-05, 1.718248201879999e-05, 1.703358935814667e-05, 1.6875996975713394e-05, 1.6740700676650603e-05, 1.645324963162378e-05, 1.634383680824493e-05, 1.6315123861350533e-05, 1.6304356838197508e-05], 'test_loss': [0.5731198464740407, 0.44305044629357077, 0.5104050702398474, 0.3371299769661643, 0.3108975028991699, 0.3726826041395014, 0.46784974629228765, 0.4669412219253453, 0.45909785116260704, 0.58819153027101, 0.47495999918742615, 0.5703786967017433, 0.5855168060822921, 0.44898049038919535, 0.546326271254908, 0.6489592537690293, 0.537380482879552, 0.6089611762626604, 0.5670197147164833, 0.5836622844839638, 0.5943702666021207, 0.6711172728765418, 0.6670827648348429, 0.6865329135217788, 0.797472014945339, 0.6951274050433527, 0.5770175067403099, 0.6580746110054579, 0.7822530458190224, 0.8870652231303129, 0.5605864653634755, 0.6104132901386103, 0.6539720848761499, 0.6597002799944444, 0.6755552122983235, 0.7052715121802281, 0.7210498682845553, 0.7345091667483477, 0.742377200784712, 0.7496845496754924, 0.7447407132103531, 0.7631608505208384, 0.7694934131315148, 0.7817938523673961, 0.7837737955133939, 0.8410269093191759, 0.6779202876036817, 0.7095425280115821, 0.6186170102384957, 0.6385450801354917, 0.6627468334375457, 0.6372442069006237, 0.6630767890954898, 0.6581999914813786, 0.689243891814893, 0.7390292131534608, 0.743421540629669, 0.7645966332666153, 0.7492475136801262, 0.75381240359952, 0.7574675042768517, 0.7715327183785848, 0.7725261704670265, 0.7944287640696646, 0.8073697314464318, 0.7951857111876068, 0.8027432713225823, 0.8146177535614169, 0.8127692632796243, 0.8072995141303082, 0.8118191498418508, 0.8132005997918631, 0.8158793743379118, 0.8193492895001757, 0.8257212914161342, 0.829368692887947, 0.833197230322985, 0.8355185295835095, 0.8380583506188651, 0.8405056508446366, 0.8523631677473895, 0.8557146495703438, 0.8613863734109327, 0.8647067647235764, 0.8669684508803767, 0.8687398512082556, 0.8702547417210669, 0.8722032270620746, 0.8738232184584591, 0.8749313300560144, 0.8760637920607008, 0.8774771881569177, 0.878636501783251, 0.8793850582293024, 0.8801115524226969, 0.8805224455082895, 0.8815558822732419, 0.8818478415441826, 0.8821571583445819, 0.8822033662291308], 'train_accuracy': [0.7536496350364964, 0.8613138686131386, 0.8695255474452555, 0.9571167883211679, 0.968978102189781, 0.9817518248175182, 0.9790145985401459, 0.9808394160583942, 0.9963503649635036, 0.9799270072992701, 0.9963503649635036, 0.9981751824817519, 0.9927007299270073, 0.9981751824817519, 0.9963503649635036, 0.9981751824817519, 0.9936131386861314, 0.9981751824817519, 0.9990875912408759, 0.9981751824817519, 0.9990875912408759, 0.9990875912408759, 1.0, 1.0, 1.0, 0.9981751824817519, 0.9981751824817519, 0.9972627737226277, 0.9890510948905109, 0.9844890510948905, 0.9990875912408759, 1.0, 0.9990875912408759, 1.0, 1.0, 1.0, 1.0, 1.0, 1.0, 1.0, 1.0, 1.0, 1.0, 1.0, 1.0, 0.9990875912408759, 0.9981751824817519, 1.0, 0.9963503649635036, 1.0, 1.0, 1.0, 1.0, 1.0, 1.0, 1.0, 1.0, 1.0, 1.0, 1.0, 1.0, 1.0, 1.0, 1.0, 1.0, 1.0, 1.0, 1.0, 1.0, 1.0, 1.0, 1.0, 1.0, 1.0, 1.0, 1.0, 1.0, 1.0, 1.0, 1.0, 1.0, 1.0, 1.0, 1.0, 1.0, 1.0, 1.0, 1.0, 1.0, 1.0, 1.0, 1.0, 1.0, 1.0, 1.0, 1.0, 1.0, 1.0, 1.0, 1.0], 'test_accuracy': [0.7381818181818182, 0.8181818181818182, 0.8, 0.8763636363636363, 0.8945454545454545, 0.8618181818181818, 0.8763636363636363, 0.8363636363636363, 0.8836363636363637, 0.8581818181818182, 0.8945454545454545, 0.8909090909090909, 0.8763636363636363, 0.8909090909090909, 0.8727272727272727, 0.8836363636363637, 0.8690909090909091, 0.88, 0.8945454545454545, 0.8909090909090909, 0.8872727272727273, 0.8945454545454545, 0.9054545454545454, 0.8763636363636363, 0.88, 0.88, 0.8763636363636363, 0.8727272727272727, 0.8327272727272728, 0.8218181818181818, 0.8836363636363637, 0.8872727272727273, 0.8836363636363637, 0.88, 0.8872727272727273, 0.88, 0.88, 0.88, 0.88, 0.8836363636363637, 0.8872727272727273, 0.8836363636363637, 0.8836363636363637, 0.8763636363636363, 0.8763636363636363, 0.88, 0.8727272727272727, 0.8690909090909091, 0.88, 0.8981818181818182, 0.8727272727272727, 0.8909090909090909, 0.8945454545454545, 0.8945454545454545, 0.8690909090909091, 0.88, 0.8727272727272727, 0.8581818181818182, 0.8690909090909091, 0.8727272727272727, 0.88, 0.8654545454545455, 0.88, 0.8727272727272727, 0.8909090909090909, 0.8690909090909091, 0.8763636363636363, 0.8836363636363637, 0.8836363636363637, 0.88, 0.8836363636363637, 0.8763636363636363, 0.88, 0.8872727272727273, 0.88, 0.88, 0.88, 0.8836363636363637, 0.8872727272727273, 0.8872727272727273, 0.8763636363636363, 0.8763636363636363, 0.8872727272727273, 0.8872727272727273, 0.8836363636363637, 0.8836363636363637, 0.8836363636363637, 0.8836363636363637, 0.8836363636363637, 0.8836363636363637, 0.8836363636363637, 0.8836363636363637, 0.8836363636363637, 0.8836363636363637, 0.8836363636363637, 0.8836363636363637, 0.8836363636363637, 0.8872727272727273, 0.8872727272727273, 0.8872727272727273]}\n"
          ]
        }
      ],
      "source": [
        "print(history)"
      ]
    },
    {
      "cell_type": "code",
      "execution_count": 45,
      "metadata": {},
      "outputs": [],
      "source": [
        "for k, v in history.items():\n",
        "    if len(v) == 0:\n",
        "        print(f\"⚠️  'history[\\\"{k}\\\"]' is empty – did you run training first?\")\n",
        "        # you can 'break' here if you want to abort plotting\n",
        "epochs = np.arange(1, len(history[\"train_loss\"]) + 1)"
      ]
    },
    {
      "cell_type": "code",
      "execution_count": 46,
      "metadata": {},
      "outputs": [
        {
          "data": {
            "image/png": "[encoded data removed]",
            "text/plain": [
              "<Figure size 640x480 with 1 Axes>"
            ]
          },
          "metadata": {},
          "output_type": "display_data"
        }
      ],
      "source": [
        "# 1️⃣  Loss curve\n",
        "plt.close(\"all\")                              # clear stale figures\n",
        "plt.figure()\n",
        "plt.plot(epochs, history[\"train_loss\"], \"o-\", label=\"Train\")\n",
        "plt.plot(epochs, history[\"test_loss\"],  \"o-\", label=\"Test\")\n",
        "plt.title(\"Loss vs. Epoch\")\n",
        "plt.xlabel(\"Epoch\")\n",
        "plt.ylabel(\"Loss\")\n",
        "plt.grid(True, alpha=.3)\n",
        "plt.legend()\n",
        "plt.show()"
      ]
    },
    {
      "cell_type": "code",
      "execution_count": 47,
      "metadata": {},
      "outputs": [
        {
          "data": {
            "image/png": "[encoded data removed]",
            "text/plain": [
              "<Figure size 640x480 with 1 Axes>"
            ]
          },
          "metadata": {},
          "output_type": "display_data"
        }
      ],
      "source": [
        "# 2️⃣  Accuracy curve\n",
        "plt.figure()\n",
        "plt.plot(epochs, history[\"train_accuracy\"], \"o-\", label=\"Train\")\n",
        "plt.plot(epochs, history[\"test_accuracy\"],  \"o-\", label=\"Test\")\n",
        "plt.title(\"Accuracy vs. Epoch\")\n",
        "plt.xlabel(\"Epoch\")\n",
        "plt.ylabel(\"Accuracy\")\n",
        "plt.ylim(0, 1)\n",
        "plt.grid(True, alpha=.3)\n",
        "plt.legend()\n",
        "plt.show()"
      ]
    },
    {
      "cell_type": "code",
      "execution_count": null,
      "metadata": {},
      "outputs": [
        {
          "data": {
            "text/html": [
              "<style type=\"text/css\">\n",
              "#T_7b366_row0_col0, #T_7b366_row1_col1 {\n",
              "  background-color: #08306b;\n",
              "  color: #f1f1f1;\n",
              "}\n",
              "#T_7b366_row0_col1, #T_7b366_row1_col0 {\n",
              "  background-color: #f7fbff;\n",
              "  color: #000000;\n",
              "}\n",
              "</style>\n",
              "<table id=\"T_7b366\">\n",
              "  <thead>\n",
              "    <tr>\n",
              "      <th class=\"blank level0\" >&nbsp;</th>\n",
              "      <th id=\"T_7b366_level0_col0\" class=\"col_heading level0 col0\" >Pred LABEL_0</th>\n",
              "      <th id=\"T_7b366_level0_col1\" class=\"col_heading level0 col1\" >Pred LABEL_1</th>\n",
              "    </tr>\n",
              "  </thead>\n",
              "  <tbody>\n",
              "    <tr>\n",
              "      <th id=\"T_7b366_level0_row0\" class=\"row_heading level0 row0\" >True LABEL_0</th>\n",
              "      <td id=\"T_7b366_row0_col0\" class=\"data row0 col0\" >126</td>\n",
              "      <td id=\"T_7b366_row0_col1\" class=\"data row0 col1\" >13</td>\n",
              "    </tr>\n",
              "    <tr>\n",
              "      <th id=\"T_7b366_level0_row1\" class=\"row_heading level0 row1\" >True LABEL_1</th>\n",
              "      <td id=\"T_7b366_row1_col0\" class=\"data row1 col0\" >18</td>\n",
              "      <td id=\"T_7b366_row1_col1\" class=\"data row1 col1\" >118</td>\n",
              "    </tr>\n",
              "  </tbody>\n",
              "</table>\n"
            ],
            "text/plain": [
              "<pandas.io.formats.style.Styler at 0x7fd5b46db890>"
            ]
          },
          "metadata": {},
          "output_type": "display_data"
        },
        {
          "name": "stdout",
          "output_type": "stream",
          "text": [
            "\n",
            "Classification report:\n",
            "              precision    recall  f1-score   support\n",
            "\n",
            "     LABEL_0       0.88      0.91      0.89       139\n",
            "     LABEL_1       0.90      0.87      0.88       136\n",
            "\n",
            "    accuracy                           0.89       275\n",
            "   macro avg       0.89      0.89      0.89       275\n",
            "weighted avg       0.89      0.89      0.89       275\n",
            "\n"
          ]
        }
      ],
      "source": [
        "# 3️⃣  Confusion matrix & classification report\n",
        "y_true, y_pred = [], []\n",
        "\n",
        "model.eval()\n",
        "with torch.no_grad():\n",
        "    for batch in test_loader:\n",
        "        labels = batch[\"labels\"].to(device)\n",
        "        inputs = {k: v.to(device) for k, v in batch.items() if k != \"labels\"}\n",
        "        logits = model(**inputs).logits\n",
        "        preds  = logits.argmax(dim=-1)\n",
        "\n",
        "        y_true.extend(labels.cpu().numpy())\n",
        "        y_pred.extend(preds.cpu().numpy())\n",
        "\n",
        "cm = confusion_matrix(y_true, y_pred)\n",
        "labels = list(model.config.id2label.values())  # [\"0\", \"1\"] or custom names\n",
        "\n",
        "# pretty print as a DataFrame\n",
        "df_cm = pd.DataFrame(cm,\n",
        "                     index=[f\"True {l}\" for l in labels],\n",
        "                     columns=[f\"Pred {l}\" for l in labels])\n",
        "display(df_cm.style.background_gradient(cmap=\"Blues\").format(\"{:.0f}\"))\n",
        "\n",
        "print(\"\\nClassification report:\")\n",
        "print(classification_report(y_true, y_pred, target_names=labels))"
      ]
    }
  ],
  "metadata": {
    "colab": {
      "provenance": []
    },
    "kernelspec": {
      "display_name": ".venv",
      "language": "python",
      "name": "python3"
    },
    "language_info": {
      "codemirror_mode": {
        "name": "ipython",
        "version": 3
      },
      "file_extension": ".py",
      "mimetype": "text/x-python",
      "name": "python",
      "nbconvert_exporter": "python",
      "pygments_lexer": "ipython3",
      "version": "3.13.3"
    },
    "widgets": {
      "application/vnd.jupyter.widget-state+json": {
        "0c4501f1fe2142be969938806fb65cdf": {
          "model_module": "@jupyter-widgets/base",
          "model_module_version": "1.2.0",
          "model_name": "LayoutModel",
          "state": {
            "_model_module": "@jupyter-widgets/base",
            "_model_module_version": "1.2.0",
            "_model_name": "LayoutModel",
            "_view_count": null,
            "_view_module": "@jupyter-widgets/base",
            "_view_module_version": "1.2.0",
            "_view_name": "LayoutView",
            "align_content": null,
            "align_items": null,
            "align_self": null,
            "border": null,
            "bottom": null,
            "display": null,
            "flex": null,
            "flex_flow": null,
            "grid_area": null,
            "grid_auto_columns": null,
            "grid_auto_flow": null,
            "grid_auto_rows": null,
            "grid_column": null,
            "grid_gap": null,
            "grid_row": null,
            "grid_template_areas": null,
            "grid_template_columns": null,
            "grid_template_rows": null,
            "height": null,
            "justify_content": null,
            "justify_items": null,
            "left": null,
            "margin": null,
            "max_height": null,
            "max_width": null,
            "min_height": null,
            "min_width": null,
            "object_fit": null,
            "object_position": null,
            "order": null,
            "overflow": null,
            "overflow_x": null,
            "overflow_y": null,
            "padding": null,
            "right": null,
            "top": null,
            "visibility": null,
            "width": null
          }
        },
        "122329d9a8d2463c80ac405522c4215f": {
          "model_module": "@jupyter-widgets/base",
          "model_module_version": "1.2.0",
          "model_name": "LayoutModel",
          "state": {
            "_model_module": "@jupyter-widgets/base",
            "_model_module_version": "1.2.0",
            "_model_name": "LayoutModel",
            "_view_count": null,
            "_view_module": "@jupyter-widgets/base",
            "_view_module_version": "1.2.0",
            "_view_name": "LayoutView",
            "align_content": null,
            "align_items": null,
            "align_self": null,
            "border": null,
            "bottom": null,
            "display": null,
            "flex": null,
            "flex_flow": null,
            "grid_area": null,
            "grid_auto_columns": null,
            "grid_auto_flow": null,
            "grid_auto_rows": null,
            "grid_column": null,
            "grid_gap": null,
            "grid_row": null,
            "grid_template_areas": null,
            "grid_template_columns": null,
            "grid_template_rows": null,
            "height": null,
            "justify_content": null,
            "justify_items": null,
            "left": null,
            "margin": null,
            "max_height": null,
            "max_width": null,
            "min_height": null,
            "min_width": null,
            "object_fit": null,
            "object_position": null,
            "order": null,
            "overflow": null,
            "overflow_x": null,
            "overflow_y": null,
            "padding": null,
            "right": null,
            "top": null,
            "visibility": null,
            "width": null
          }
        },
        "2b8a7f8e5428462db3c173665dc0e355": {
          "model_module": "@jupyter-widgets/controls",
          "model_module_version": "1.5.0",
          "model_name": "ProgressStyleModel",
          "state": {
            "_model_module": "@jupyter-widgets/controls",
            "_model_module_version": "1.5.0",
            "_model_name": "ProgressStyleModel",
            "_view_count": null,
            "_view_module": "@jupyter-widgets/base",
            "_view_module_version": "1.2.0",
            "_view_name": "StyleView",
            "bar_color": null,
            "description_width": ""
          }
        },
        "2ba702d79770469f9492289b7c041900": {
          "model_module": "@jupyter-widgets/controls",
          "model_module_version": "1.5.0",
          "model_name": "HTMLModel",
          "state": {
            "_dom_classes": [],
            "_model_module": "@jupyter-widgets/controls",
            "_model_module_version": "1.5.0",
            "_model_name": "HTMLModel",
            "_view_count": null,
            "_view_module": "@jupyter-widgets/controls",
            "_view_module_version": "1.5.0",
            "_view_name": "HTMLView",
            "description": "",
            "description_tooltip": null,
            "layout": "IPY_MODEL_f0dc92050fa84ed3b3707f42cf7a984f",
            "placeholder": "​",
            "style": "IPY_MODEL_6c51e30873104d31aaccac027b12f3bb",
            "value": " 466k/466k [00:00&lt;00:00, 573kB/s]"
          }
        },
        "2f9e4487613f4842ae47018ce51acaa7": {
          "model_module": "@jupyter-widgets/base",
          "model_module_version": "1.2.0",
          "model_name": "LayoutModel",
          "state": {
            "_model_module": "@jupyter-widgets/base",
            "_model_module_version": "1.2.0",
            "_model_name": "LayoutModel",
            "_view_count": null,
            "_view_module": "@jupyter-widgets/base",
            "_view_module_version": "1.2.0",
            "_view_name": "LayoutView",
            "align_content": null,
            "align_items": null,
            "align_self": null,
            "border": null,
            "bottom": null,
            "display": null,
            "flex": null,
            "flex_flow": null,
            "grid_area": null,
            "grid_auto_columns": null,
            "grid_auto_flow": null,
            "grid_auto_rows": null,
            "grid_column": null,
            "grid_gap": null,
            "grid_row": null,
            "grid_template_areas": null,
            "grid_template_columns": null,
            "grid_template_rows": null,
            "height": null,
            "justify_content": null,
            "justify_items": null,
            "left": null,
            "margin": null,
            "max_height": null,
            "max_width": null,
            "min_height": null,
            "min_width": null,
            "object_fit": null,
            "object_position": null,
            "order": null,
            "overflow": null,
            "overflow_x": null,
            "overflow_y": null,
            "padding": null,
            "right": null,
            "top": null,
            "visibility": null,
            "width": null
          }
        },
        "300869b66070449ba09e2a1b75fbfa10": {
          "model_module": "@jupyter-widgets/controls",
          "model_module_version": "1.5.0",
          "model_name": "HBoxModel",
          "state": {
            "_dom_classes": [],
            "_model_module": "@jupyter-widgets/controls",
            "_model_module_version": "1.5.0",
            "_model_name": "HBoxModel",
            "_view_count": null,
            "_view_module": "@jupyter-widgets/controls",
            "_view_module_version": "1.5.0",
            "_view_name": "HBoxView",
            "box_style": "",
            "children": [
              "IPY_MODEL_7cbf1cb95c12405cbd7919840fb7ae6c",
              "IPY_MODEL_d4c8ff0397c748aa992b44126f052ac3",
              "IPY_MODEL_b89449965c7b45ba9cedf45d4d95490a"
            ],
            "layout": "IPY_MODEL_ff64e548dbb441309b215b54d6474809"
          }
        },
        "3cc9db3616e64bff80127768cc0e119a": {
          "model_module": "@jupyter-widgets/controls",
          "model_module_version": "1.5.0",
          "model_name": "HTMLModel",
          "state": {
            "_dom_classes": [],
            "_model_module": "@jupyter-widgets/controls",
            "_model_module_version": "1.5.0",
            "_model_name": "HTMLModel",
            "_view_count": null,
            "_view_module": "@jupyter-widgets/controls",
            "_view_module_version": "1.5.0",
            "_view_name": "HTMLView",
            "description": "",
            "description_tooltip": null,
            "layout": "IPY_MODEL_b57dbfa5a7e34b718d27c3a9be08d904",
            "placeholder": "​",
            "style": "IPY_MODEL_49e75d484d78457cbaf267123897d0fc",
            "value": " 570/570 [00:00&lt;00:00, 7.74kB/s]"
          }
        },
        "3f098de8018146e1951d8e3496829734": {
          "model_module": "@jupyter-widgets/controls",
          "model_module_version": "1.5.0",
          "model_name": "HTMLModel",
          "state": {
            "_dom_classes": [],
            "_model_module": "@jupyter-widgets/controls",
            "_model_module_version": "1.5.0",
            "_model_name": "HTMLModel",
            "_view_count": null,
            "_view_module": "@jupyter-widgets/controls",
            "_view_module_version": "1.5.0",
            "_view_name": "HTMLView",
            "description": "",
            "description_tooltip": null,
            "layout": "IPY_MODEL_0c4501f1fe2142be969938806fb65cdf",
            "placeholder": "​",
            "style": "IPY_MODEL_f6178f96235d408b8329d4d8b6d45da9",
            "value": "vocab.txt: 100%"
          }
        },
        "4669845a0d9e450bb286a7cd74d1f170": {
          "model_module": "@jupyter-widgets/controls",
          "model_module_version": "1.5.0",
          "model_name": "DescriptionStyleModel",
          "state": {
            "_model_module": "@jupyter-widgets/controls",
            "_model_module_version": "1.5.0",
            "_model_name": "DescriptionStyleModel",
            "_view_count": null,
            "_view_module": "@jupyter-widgets/base",
            "_view_module_version": "1.2.0",
            "_view_name": "StyleView",
            "description_width": ""
          }
        },
        "472173a79a7c4dc6bff2ce0796cb7f53": {
          "model_module": "@jupyter-widgets/base",
          "model_module_version": "1.2.0",
          "model_name": "LayoutModel",
          "state": {
            "_model_module": "@jupyter-widgets/base",
            "_model_module_version": "1.2.0",
            "_model_name": "LayoutModel",
            "_view_count": null,
            "_view_module": "@jupyter-widgets/base",
            "_view_module_version": "1.2.0",
            "_view_name": "LayoutView",
            "align_content": null,
            "align_items": null,
            "align_self": null,
            "border": null,
            "bottom": null,
            "display": null,
            "flex": null,
            "flex_flow": null,
            "grid_area": null,
            "grid_auto_columns": null,
            "grid_auto_flow": null,
            "grid_auto_rows": null,
            "grid_column": null,
            "grid_gap": null,
            "grid_row": null,
            "grid_template_areas": null,
            "grid_template_columns": null,
            "grid_template_rows": null,
            "height": null,
            "justify_content": null,
            "justify_items": null,
            "left": null,
            "margin": null,
            "max_height": null,
            "max_width": null,
            "min_height": null,
            "min_width": null,
            "object_fit": null,
            "object_position": null,
            "order": null,
            "overflow": null,
            "overflow_x": null,
            "overflow_y": null,
            "padding": null,
            "right": null,
            "top": null,
            "visibility": null,
            "width": null
          }
        },
        "48f831af461c407a9f23cd9d4978cc9a": {
          "model_module": "@jupyter-widgets/controls",
          "model_module_version": "1.5.0",
          "model_name": "FloatProgressModel",
          "state": {
            "_dom_classes": [],
            "_model_module": "@jupyter-widgets/controls",
            "_model_module_version": "1.5.0",
            "_model_name": "FloatProgressModel",
            "_view_count": null,
            "_view_module": "@jupyter-widgets/controls",
            "_view_module_version": "1.5.0",
            "_view_name": "ProgressView",
            "bar_style": "success",
            "description": "",
            "description_tooltip": null,
            "layout": "IPY_MODEL_e21f853f2fb64f7181de5dde034f901c",
            "max": 570,
            "min": 0,
            "orientation": "horizontal",
            "style": "IPY_MODEL_9074b57fa52b4c02934d3f59a7ec531b",
            "value": 570
          }
        },
        "49e75d484d78457cbaf267123897d0fc": {
          "model_module": "@jupyter-widgets/controls",
          "model_module_version": "1.5.0",
          "model_name": "DescriptionStyleModel",
          "state": {
            "_model_module": "@jupyter-widgets/controls",
            "_model_module_version": "1.5.0",
            "_model_name": "DescriptionStyleModel",
            "_view_count": null,
            "_view_module": "@jupyter-widgets/base",
            "_view_module_version": "1.2.0",
            "_view_name": "StyleView",
            "description_width": ""
          }
        },
        "670db6abab2e439ab5bbe4238cfd2659": {
          "model_module": "@jupyter-widgets/controls",
          "model_module_version": "1.5.0",
          "model_name": "FloatProgressModel",
          "state": {
            "_dom_classes": [],
            "_model_module": "@jupyter-widgets/controls",
            "_model_module_version": "1.5.0",
            "_model_name": "FloatProgressModel",
            "_view_count": null,
            "_view_module": "@jupyter-widgets/controls",
            "_view_module_version": "1.5.0",
            "_view_name": "ProgressView",
            "bar_style": "success",
            "description": "",
            "description_tooltip": null,
            "layout": "IPY_MODEL_b0d16046a2ee41fa8b1f5f2cebee6985",
            "max": 231508,
            "min": 0,
            "orientation": "horizontal",
            "style": "IPY_MODEL_2b8a7f8e5428462db3c173665dc0e355",
            "value": 231508
          }
        },
        "6a78f5ba63f74967bedbb93a5e19b2bd": {
          "model_module": "@jupyter-widgets/controls",
          "model_module_version": "1.5.0",
          "model_name": "ProgressStyleModel",
          "state": {
            "_model_module": "@jupyter-widgets/controls",
            "_model_module_version": "1.5.0",
            "_model_name": "ProgressStyleModel",
            "_view_count": null,
            "_view_module": "@jupyter-widgets/base",
            "_view_module_version": "1.2.0",
            "_view_name": "StyleView",
            "bar_color": null,
            "description_width": ""
          }
        },
        "6c51e30873104d31aaccac027b12f3bb": {
          "model_module": "@jupyter-widgets/controls",
          "model_module_version": "1.5.0",
          "model_name": "DescriptionStyleModel",
          "state": {
            "_model_module": "@jupyter-widgets/controls",
            "_model_module_version": "1.5.0",
            "_model_name": "DescriptionStyleModel",
            "_view_count": null,
            "_view_module": "@jupyter-widgets/base",
            "_view_module_version": "1.2.0",
            "_view_name": "StyleView",
            "description_width": ""
          }
        },
        "6c84310a6a51443bb6c1ed8636237c94": {
          "model_module": "@jupyter-widgets/base",
          "model_module_version": "1.2.0",
          "model_name": "LayoutModel",
          "state": {
            "_model_module": "@jupyter-widgets/base",
            "_model_module_version": "1.2.0",
            "_model_name": "LayoutModel",
            "_view_count": null,
            "_view_module": "@jupyter-widgets/base",
            "_view_module_version": "1.2.0",
            "_view_name": "LayoutView",
            "align_content": null,
            "align_items": null,
            "align_self": null,
            "border": null,
            "bottom": null,
            "display": null,
            "flex": null,
            "flex_flow": null,
            "grid_area": null,
            "grid_auto_columns": null,
            "grid_auto_flow": null,
            "grid_auto_rows": null,
            "grid_column": null,
            "grid_gap": null,
            "grid_row": null,
            "grid_template_areas": null,
            "grid_template_columns": null,
            "grid_template_rows": null,
            "height": null,
            "justify_content": null,
            "justify_items": null,
            "left": null,
            "margin": null,
            "max_height": null,
            "max_width": null,
            "min_height": null,
            "min_width": null,
            "object_fit": null,
            "object_position": null,
            "order": null,
            "overflow": null,
            "overflow_x": null,
            "overflow_y": null,
            "padding": null,
            "right": null,
            "top": null,
            "visibility": null,
            "width": null
          }
        },
        "71285d344a3747acb77452ef36772f31": {
          "model_module": "@jupyter-widgets/base",
          "model_module_version": "1.2.0",
          "model_name": "LayoutModel",
          "state": {
            "_model_module": "@jupyter-widgets/base",
            "_model_module_version": "1.2.0",
            "_model_name": "LayoutModel",
            "_view_count": null,
            "_view_module": "@jupyter-widgets/base",
            "_view_module_version": "1.2.0",
            "_view_name": "LayoutView",
            "align_content": null,
            "align_items": null,
            "align_self": null,
            "border": null,
            "bottom": null,
            "display": null,
            "flex": null,
            "flex_flow": null,
            "grid_area": null,
            "grid_auto_columns": null,
            "grid_auto_flow": null,
            "grid_auto_rows": null,
            "grid_column": null,
            "grid_gap": null,
            "grid_row": null,
            "grid_template_areas": null,
            "grid_template_columns": null,
            "grid_template_rows": null,
            "height": null,
            "justify_content": null,
            "justify_items": null,
            "left": null,
            "margin": null,
            "max_height": null,
            "max_width": null,
            "min_height": null,
            "min_width": null,
            "object_fit": null,
            "object_position": null,
            "order": null,
            "overflow": null,
            "overflow_x": null,
            "overflow_y": null,
            "padding": null,
            "right": null,
            "top": null,
            "visibility": null,
            "width": null
          }
        },
        "7cbf1cb95c12405cbd7919840fb7ae6c": {
          "model_module": "@jupyter-widgets/controls",
          "model_module_version": "1.5.0",
          "model_name": "HTMLModel",
          "state": {
            "_dom_classes": [],
            "_model_module": "@jupyter-widgets/controls",
            "_model_module_version": "1.5.0",
            "_model_name": "HTMLModel",
            "_view_count": null,
            "_view_module": "@jupyter-widgets/controls",
            "_view_module_version": "1.5.0",
            "_view_name": "HTMLView",
            "description": "",
            "description_tooltip": null,
            "layout": "IPY_MODEL_472173a79a7c4dc6bff2ce0796cb7f53",
            "placeholder": "​",
            "style": "IPY_MODEL_ce0d015bb0f140f28695717cdd34dec6",
            "value": "tokenizer_config.json: 100%"
          }
        },
        "80858713ea4843dda4c5641a43282cab": {
          "model_module": "@jupyter-widgets/base",
          "model_module_version": "1.2.0",
          "model_name": "LayoutModel",
          "state": {
            "_model_module": "@jupyter-widgets/base",
            "_model_module_version": "1.2.0",
            "_model_name": "LayoutModel",
            "_view_count": null,
            "_view_module": "@jupyter-widgets/base",
            "_view_module_version": "1.2.0",
            "_view_name": "LayoutView",
            "align_content": null,
            "align_items": null,
            "align_self": null,
            "border": null,
            "bottom": null,
            "display": null,
            "flex": null,
            "flex_flow": null,
            "grid_area": null,
            "grid_auto_columns": null,
            "grid_auto_flow": null,
            "grid_auto_rows": null,
            "grid_column": null,
            "grid_gap": null,
            "grid_row": null,
            "grid_template_areas": null,
            "grid_template_columns": null,
            "grid_template_rows": null,
            "height": null,
            "justify_content": null,
            "justify_items": null,
            "left": null,
            "margin": null,
            "max_height": null,
            "max_width": null,
            "min_height": null,
            "min_width": null,
            "object_fit": null,
            "object_position": null,
            "order": null,
            "overflow": null,
            "overflow_x": null,
            "overflow_y": null,
            "padding": null,
            "right": null,
            "top": null,
            "visibility": null,
            "width": null
          }
        },
        "856ebb0fc62e4bc3943c62da5f010149": {
          "model_module": "@jupyter-widgets/controls",
          "model_module_version": "1.5.0",
          "model_name": "HTMLModel",
          "state": {
            "_dom_classes": [],
            "_model_module": "@jupyter-widgets/controls",
            "_model_module_version": "1.5.0",
            "_model_name": "HTMLModel",
            "_view_count": null,
            "_view_module": "@jupyter-widgets/controls",
            "_view_module_version": "1.5.0",
            "_view_name": "HTMLView",
            "description": "",
            "description_tooltip": null,
            "layout": "IPY_MODEL_98e2bd26bf284cf1b7ba766e306414ae",
            "placeholder": "​",
            "style": "IPY_MODEL_8b7fb00125b14223ba52c8fb356d7a09",
            "value": "config.json: 100%"
          }
        },
        "8a7a3820e0f34559b55e8405b7b91442": {
          "model_module": "@jupyter-widgets/controls",
          "model_module_version": "1.5.0",
          "model_name": "HBoxModel",
          "state": {
            "_dom_classes": [],
            "_model_module": "@jupyter-widgets/controls",
            "_model_module_version": "1.5.0",
            "_model_name": "HBoxModel",
            "_view_count": null,
            "_view_module": "@jupyter-widgets/controls",
            "_view_module_version": "1.5.0",
            "_view_name": "HBoxView",
            "box_style": "",
            "children": [
              "IPY_MODEL_856ebb0fc62e4bc3943c62da5f010149",
              "IPY_MODEL_48f831af461c407a9f23cd9d4978cc9a",
              "IPY_MODEL_3cc9db3616e64bff80127768cc0e119a"
            ],
            "layout": "IPY_MODEL_122329d9a8d2463c80ac405522c4215f"
          }
        },
        "8b7fb00125b14223ba52c8fb356d7a09": {
          "model_module": "@jupyter-widgets/controls",
          "model_module_version": "1.5.0",
          "model_name": "DescriptionStyleModel",
          "state": {
            "_model_module": "@jupyter-widgets/controls",
            "_model_module_version": "1.5.0",
            "_model_name": "DescriptionStyleModel",
            "_view_count": null,
            "_view_module": "@jupyter-widgets/base",
            "_view_module_version": "1.2.0",
            "_view_name": "StyleView",
            "description_width": ""
          }
        },
        "9074b57fa52b4c02934d3f59a7ec531b": {
          "model_module": "@jupyter-widgets/controls",
          "model_module_version": "1.5.0",
          "model_name": "ProgressStyleModel",
          "state": {
            "_model_module": "@jupyter-widgets/controls",
            "_model_module_version": "1.5.0",
            "_model_name": "ProgressStyleModel",
            "_view_count": null,
            "_view_module": "@jupyter-widgets/base",
            "_view_module_version": "1.2.0",
            "_view_name": "StyleView",
            "bar_color": null,
            "description_width": ""
          }
        },
        "92c4b3862d0b4e43be9a97f8687a619e": {
          "model_module": "@jupyter-widgets/controls",
          "model_module_version": "1.5.0",
          "model_name": "HBoxModel",
          "state": {
            "_dom_classes": [],
            "_model_module": "@jupyter-widgets/controls",
            "_model_module_version": "1.5.0",
            "_model_name": "HBoxModel",
            "_view_count": null,
            "_view_module": "@jupyter-widgets/controls",
            "_view_module_version": "1.5.0",
            "_view_name": "HBoxView",
            "box_style": "",
            "children": [
              "IPY_MODEL_fe16e1660fa94340957f3547d6673f15",
              "IPY_MODEL_97532d4982c14fa29935fc32593a9f87",
              "IPY_MODEL_2ba702d79770469f9492289b7c041900"
            ],
            "layout": "IPY_MODEL_ba9511e4b1404eddb3a9ab972642de7e"
          }
        },
        "97532d4982c14fa29935fc32593a9f87": {
          "model_module": "@jupyter-widgets/controls",
          "model_module_version": "1.5.0",
          "model_name": "FloatProgressModel",
          "state": {
            "_dom_classes": [],
            "_model_module": "@jupyter-widgets/controls",
            "_model_module_version": "1.5.0",
            "_model_name": "FloatProgressModel",
            "_view_count": null,
            "_view_module": "@jupyter-widgets/controls",
            "_view_module_version": "1.5.0",
            "_view_name": "ProgressView",
            "bar_style": "success",
            "description": "",
            "description_tooltip": null,
            "layout": "IPY_MODEL_2f9e4487613f4842ae47018ce51acaa7",
            "max": 466062,
            "min": 0,
            "orientation": "horizontal",
            "style": "IPY_MODEL_ea5e80dd4ac641b8baec8828ad5698a7",
            "value": 466062
          }
        },
        "98e2bd26bf284cf1b7ba766e306414ae": {
          "model_module": "@jupyter-widgets/base",
          "model_module_version": "1.2.0",
          "model_name": "LayoutModel",
          "state": {
            "_model_module": "@jupyter-widgets/base",
            "_model_module_version": "1.2.0",
            "_model_name": "LayoutModel",
            "_view_count": null,
            "_view_module": "@jupyter-widgets/base",
            "_view_module_version": "1.2.0",
            "_view_name": "LayoutView",
            "align_content": null,
            "align_items": null,
            "align_self": null,
            "border": null,
            "bottom": null,
            "display": null,
            "flex": null,
            "flex_flow": null,
            "grid_area": null,
            "grid_auto_columns": null,
            "grid_auto_flow": null,
            "grid_auto_rows": null,
            "grid_column": null,
            "grid_gap": null,
            "grid_row": null,
            "grid_template_areas": null,
            "grid_template_columns": null,
            "grid_template_rows": null,
            "height": null,
            "justify_content": null,
            "justify_items": null,
            "left": null,
            "margin": null,
            "max_height": null,
            "max_width": null,
            "min_height": null,
            "min_width": null,
            "object_fit": null,
            "object_position": null,
            "order": null,
            "overflow": null,
            "overflow_x": null,
            "overflow_y": null,
            "padding": null,
            "right": null,
            "top": null,
            "visibility": null,
            "width": null
          }
        },
        "a3516dc0472b43c7be339763ba6326b0": {
          "model_module": "@jupyter-widgets/base",
          "model_module_version": "1.2.0",
          "model_name": "LayoutModel",
          "state": {
            "_model_module": "@jupyter-widgets/base",
            "_model_module_version": "1.2.0",
            "_model_name": "LayoutModel",
            "_view_count": null,
            "_view_module": "@jupyter-widgets/base",
            "_view_module_version": "1.2.0",
            "_view_name": "LayoutView",
            "align_content": null,
            "align_items": null,
            "align_self": null,
            "border": null,
            "bottom": null,
            "display": null,
            "flex": null,
            "flex_flow": null,
            "grid_area": null,
            "grid_auto_columns": null,
            "grid_auto_flow": null,
            "grid_auto_rows": null,
            "grid_column": null,
            "grid_gap": null,
            "grid_row": null,
            "grid_template_areas": null,
            "grid_template_columns": null,
            "grid_template_rows": null,
            "height": null,
            "justify_content": null,
            "justify_items": null,
            "left": null,
            "margin": null,
            "max_height": null,
            "max_width": null,
            "min_height": null,
            "min_width": null,
            "object_fit": null,
            "object_position": null,
            "order": null,
            "overflow": null,
            "overflow_x": null,
            "overflow_y": null,
            "padding": null,
            "right": null,
            "top": null,
            "visibility": null,
            "width": null
          }
        },
        "a837cdcb372941ffa70f59695752cfa7": {
          "model_module": "@jupyter-widgets/controls",
          "model_module_version": "1.5.0",
          "model_name": "HTMLModel",
          "state": {
            "_dom_classes": [],
            "_model_module": "@jupyter-widgets/controls",
            "_model_module_version": "1.5.0",
            "_model_name": "HTMLModel",
            "_view_count": null,
            "_view_module": "@jupyter-widgets/controls",
            "_view_module_version": "1.5.0",
            "_view_name": "HTMLView",
            "description": "",
            "description_tooltip": null,
            "layout": "IPY_MODEL_80858713ea4843dda4c5641a43282cab",
            "placeholder": "​",
            "style": "IPY_MODEL_4669845a0d9e450bb286a7cd74d1f170",
            "value": " 232k/232k [00:00&lt;00:00, 1.86MB/s]"
          }
        },
        "b0d16046a2ee41fa8b1f5f2cebee6985": {
          "model_module": "@jupyter-widgets/base",
          "model_module_version": "1.2.0",
          "model_name": "LayoutModel",
          "state": {
            "_model_module": "@jupyter-widgets/base",
            "_model_module_version": "1.2.0",
            "_model_name": "LayoutModel",
            "_view_count": null,
            "_view_module": "@jupyter-widgets/base",
            "_view_module_version": "1.2.0",
            "_view_name": "LayoutView",
            "align_content": null,
            "align_items": null,
            "align_self": null,
            "border": null,
            "bottom": null,
            "display": null,
            "flex": null,
            "flex_flow": null,
            "grid_area": null,
            "grid_auto_columns": null,
            "grid_auto_flow": null,
            "grid_auto_rows": null,
            "grid_column": null,
            "grid_gap": null,
            "grid_row": null,
            "grid_template_areas": null,
            "grid_template_columns": null,
            "grid_template_rows": null,
            "height": null,
            "justify_content": null,
            "justify_items": null,
            "left": null,
            "margin": null,
            "max_height": null,
            "max_width": null,
            "min_height": null,
            "min_width": null,
            "object_fit": null,
            "object_position": null,
            "order": null,
            "overflow": null,
            "overflow_x": null,
            "overflow_y": null,
            "padding": null,
            "right": null,
            "top": null,
            "visibility": null,
            "width": null
          }
        },
        "b57dbfa5a7e34b718d27c3a9be08d904": {
          "model_module": "@jupyter-widgets/base",
          "model_module_version": "1.2.0",
          "model_name": "LayoutModel",
          "state": {
            "_model_module": "@jupyter-widgets/base",
            "_model_module_version": "1.2.0",
            "_model_name": "LayoutModel",
            "_view_count": null,
            "_view_module": "@jupyter-widgets/base",
            "_view_module_version": "1.2.0",
            "_view_name": "LayoutView",
            "align_content": null,
            "align_items": null,
            "align_self": null,
            "border": null,
            "bottom": null,
            "display": null,
            "flex": null,
            "flex_flow": null,
            "grid_area": null,
            "grid_auto_columns": null,
            "grid_auto_flow": null,
            "grid_auto_rows": null,
            "grid_column": null,
            "grid_gap": null,
            "grid_row": null,
            "grid_template_areas": null,
            "grid_template_columns": null,
            "grid_template_rows": null,
            "height": null,
            "justify_content": null,
            "justify_items": null,
            "left": null,
            "margin": null,
            "max_height": null,
            "max_width": null,
            "min_height": null,
            "min_width": null,
            "object_fit": null,
            "object_position": null,
            "order": null,
            "overflow": null,
            "overflow_x": null,
            "overflow_y": null,
            "padding": null,
            "right": null,
            "top": null,
            "visibility": null,
            "width": null
          }
        },
        "b692ccf581404ad5ab71d0d93d0b1cb3": {
          "model_module": "@jupyter-widgets/controls",
          "model_module_version": "1.5.0",
          "model_name": "DescriptionStyleModel",
          "state": {
            "_model_module": "@jupyter-widgets/controls",
            "_model_module_version": "1.5.0",
            "_model_name": "DescriptionStyleModel",
            "_view_count": null,
            "_view_module": "@jupyter-widgets/base",
            "_view_module_version": "1.2.0",
            "_view_name": "StyleView",
            "description_width": ""
          }
        },
        "b89449965c7b45ba9cedf45d4d95490a": {
          "model_module": "@jupyter-widgets/controls",
          "model_module_version": "1.5.0",
          "model_name": "HTMLModel",
          "state": {
            "_dom_classes": [],
            "_model_module": "@jupyter-widgets/controls",
            "_model_module_version": "1.5.0",
            "_model_name": "HTMLModel",
            "_view_count": null,
            "_view_module": "@jupyter-widgets/controls",
            "_view_module_version": "1.5.0",
            "_view_name": "HTMLView",
            "description": "",
            "description_tooltip": null,
            "layout": "IPY_MODEL_71285d344a3747acb77452ef36772f31",
            "placeholder": "​",
            "style": "IPY_MODEL_d3dc9cc5eaf34aea98fc8e1d0da60a72",
            "value": " 48.0/48.0 [00:00&lt;00:00, 1.24kB/s]"
          }
        },
        "ba9511e4b1404eddb3a9ab972642de7e": {
          "model_module": "@jupyter-widgets/base",
          "model_module_version": "1.2.0",
          "model_name": "LayoutModel",
          "state": {
            "_model_module": "@jupyter-widgets/base",
            "_model_module_version": "1.2.0",
            "_model_name": "LayoutModel",
            "_view_count": null,
            "_view_module": "@jupyter-widgets/base",
            "_view_module_version": "1.2.0",
            "_view_name": "LayoutView",
            "align_content": null,
            "align_items": null,
            "align_self": null,
            "border": null,
            "bottom": null,
            "display": null,
            "flex": null,
            "flex_flow": null,
            "grid_area": null,
            "grid_auto_columns": null,
            "grid_auto_flow": null,
            "grid_auto_rows": null,
            "grid_column": null,
            "grid_gap": null,
            "grid_row": null,
            "grid_template_areas": null,
            "grid_template_columns": null,
            "grid_template_rows": null,
            "height": null,
            "justify_content": null,
            "justify_items": null,
            "left": null,
            "margin": null,
            "max_height": null,
            "max_width": null,
            "min_height": null,
            "min_width": null,
            "object_fit": null,
            "object_position": null,
            "order": null,
            "overflow": null,
            "overflow_x": null,
            "overflow_y": null,
            "padding": null,
            "right": null,
            "top": null,
            "visibility": null,
            "width": null
          }
        },
        "bfb82320ab7946afb7db444ca37d3c32": {
          "model_module": "@jupyter-widgets/controls",
          "model_module_version": "1.5.0",
          "model_name": "HBoxModel",
          "state": {
            "_dom_classes": [],
            "_model_module": "@jupyter-widgets/controls",
            "_model_module_version": "1.5.0",
            "_model_name": "HBoxModel",
            "_view_count": null,
            "_view_module": "@jupyter-widgets/controls",
            "_view_module_version": "1.5.0",
            "_view_name": "HBoxView",
            "box_style": "",
            "children": [
              "IPY_MODEL_3f098de8018146e1951d8e3496829734",
              "IPY_MODEL_670db6abab2e439ab5bbe4238cfd2659",
              "IPY_MODEL_a837cdcb372941ffa70f59695752cfa7"
            ],
            "layout": "IPY_MODEL_6c84310a6a51443bb6c1ed8636237c94"
          }
        },
        "ce0d015bb0f140f28695717cdd34dec6": {
          "model_module": "@jupyter-widgets/controls",
          "model_module_version": "1.5.0",
          "model_name": "DescriptionStyleModel",
          "state": {
            "_model_module": "@jupyter-widgets/controls",
            "_model_module_version": "1.5.0",
            "_model_name": "DescriptionStyleModel",
            "_view_count": null,
            "_view_module": "@jupyter-widgets/base",
            "_view_module_version": "1.2.0",
            "_view_name": "StyleView",
            "description_width": ""
          }
        },
        "d3dc9cc5eaf34aea98fc8e1d0da60a72": {
          "model_module": "@jupyter-widgets/controls",
          "model_module_version": "1.5.0",
          "model_name": "DescriptionStyleModel",
          "state": {
            "_model_module": "@jupyter-widgets/controls",
            "_model_module_version": "1.5.0",
            "_model_name": "DescriptionStyleModel",
            "_view_count": null,
            "_view_module": "@jupyter-widgets/base",
            "_view_module_version": "1.2.0",
            "_view_name": "StyleView",
            "description_width": ""
          }
        },
        "d4c8ff0397c748aa992b44126f052ac3": {
          "model_module": "@jupyter-widgets/controls",
          "model_module_version": "1.5.0",
          "model_name": "FloatProgressModel",
          "state": {
            "_dom_classes": [],
            "_model_module": "@jupyter-widgets/controls",
            "_model_module_version": "1.5.0",
            "_model_name": "FloatProgressModel",
            "_view_count": null,
            "_view_module": "@jupyter-widgets/controls",
            "_view_module_version": "1.5.0",
            "_view_name": "ProgressView",
            "bar_style": "success",
            "description": "",
            "description_tooltip": null,
            "layout": "IPY_MODEL_eecdcdc5f4c546a5afdab057bac7a6e7",
            "max": 48,
            "min": 0,
            "orientation": "horizontal",
            "style": "IPY_MODEL_6a78f5ba63f74967bedbb93a5e19b2bd",
            "value": 48
          }
        },
        "e21f853f2fb64f7181de5dde034f901c": {
          "model_module": "@jupyter-widgets/base",
          "model_module_version": "1.2.0",
          "model_name": "LayoutModel",
          "state": {
            "_model_module": "@jupyter-widgets/base",
            "_model_module_version": "1.2.0",
            "_model_name": "LayoutModel",
            "_view_count": null,
            "_view_module": "@jupyter-widgets/base",
            "_view_module_version": "1.2.0",
            "_view_name": "LayoutView",
            "align_content": null,
            "align_items": null,
            "align_self": null,
            "border": null,
            "bottom": null,
            "display": null,
            "flex": null,
            "flex_flow": null,
            "grid_area": null,
            "grid_auto_columns": null,
            "grid_auto_flow": null,
            "grid_auto_rows": null,
            "grid_column": null,
            "grid_gap": null,
            "grid_row": null,
            "grid_template_areas": null,
            "grid_template_columns": null,
            "grid_template_rows": null,
            "height": null,
            "justify_content": null,
            "justify_items": null,
            "left": null,
            "margin": null,
            "max_height": null,
            "max_width": null,
            "min_height": null,
            "min_width": null,
            "object_fit": null,
            "object_position": null,
            "order": null,
            "overflow": null,
            "overflow_x": null,
            "overflow_y": null,
            "padding": null,
            "right": null,
            "top": null,
            "visibility": null,
            "width": null
          }
        },
        "ea5e80dd4ac641b8baec8828ad5698a7": {
          "model_module": "@jupyter-widgets/controls",
          "model_module_version": "1.5.0",
          "model_name": "ProgressStyleModel",
          "state": {
            "_model_module": "@jupyter-widgets/controls",
            "_model_module_version": "1.5.0",
            "_model_name": "ProgressStyleModel",
            "_view_count": null,
            "_view_module": "@jupyter-widgets/base",
            "_view_module_version": "1.2.0",
            "_view_name": "StyleView",
            "bar_color": null,
            "description_width": ""
          }
        },
        "eecdcdc5f4c546a5afdab057bac7a6e7": {
          "model_module": "@jupyter-widgets/base",
          "model_module_version": "1.2.0",
          "model_name": "LayoutModel",
          "state": {
            "_model_module": "@jupyter-widgets/base",
            "_model_module_version": "1.2.0",
            "_model_name": "LayoutModel",
            "_view_count": null,
            "_view_module": "@jupyter-widgets/base",
            "_view_module_version": "1.2.0",
            "_view_name": "LayoutView",
            "align_content": null,
            "align_items": null,
            "align_self": null,
            "border": null,
            "bottom": null,
            "display": null,
            "flex": null,
            "flex_flow": null,
            "grid_area": null,
            "grid_auto_columns": null,
            "grid_auto_flow": null,
            "grid_auto_rows": null,
            "grid_column": null,
            "grid_gap": null,
            "grid_row": null,
            "grid_template_areas": null,
            "grid_template_columns": null,
            "grid_template_rows": null,
            "height": null,
            "justify_content": null,
            "justify_items": null,
            "left": null,
            "margin": null,
            "max_height": null,
            "max_width": null,
            "min_height": null,
            "min_width": null,
            "object_fit": null,
            "object_position": null,
            "order": null,
            "overflow": null,
            "overflow_x": null,
            "overflow_y": null,
            "padding": null,
            "right": null,
            "top": null,
            "visibility": null,
            "width": null
          }
        },
        "f0dc92050fa84ed3b3707f42cf7a984f": {
          "model_module": "@jupyter-widgets/base",
          "model_module_version": "1.2.0",
          "model_name": "LayoutModel",
          "state": {
            "_model_module": "@jupyter-widgets/base",
            "_model_module_version": "1.2.0",
            "_model_name": "LayoutModel",
            "_view_count": null,
            "_view_module": "@jupyter-widgets/base",
            "_view_module_version": "1.2.0",
            "_view_name": "LayoutView",
            "align_content": null,
            "align_items": null,
            "align_self": null,
            "border": null,
            "bottom": null,
            "display": null,
            "flex": null,
            "flex_flow": null,
            "grid_area": null,
            "grid_auto_columns": null,
            "grid_auto_flow": null,
            "grid_auto_rows": null,
            "grid_column": null,
            "grid_gap": null,
            "grid_row": null,
            "grid_template_areas": null,
            "grid_template_columns": null,
            "grid_template_rows": null,
            "height": null,
            "justify_content": null,
            "justify_items": null,
            "left": null,
            "margin": null,
            "max_height": null,
            "max_width": null,
            "min_height": null,
            "min_width": null,
            "object_fit": null,
            "object_position": null,
            "order": null,
            "overflow": null,
            "overflow_x": null,
            "overflow_y": null,
            "padding": null,
            "right": null,
            "top": null,
            "visibility": null,
            "width": null
          }
        },
        "f6178f96235d408b8329d4d8b6d45da9": {
          "model_module": "@jupyter-widgets/controls",
          "model_module_version": "1.5.0",
          "model_name": "DescriptionStyleModel",
          "state": {
            "_model_module": "@jupyter-widgets/controls",
            "_model_module_version": "1.5.0",
            "_model_name": "DescriptionStyleModel",
            "_view_count": null,
            "_view_module": "@jupyter-widgets/base",
            "_view_module_version": "1.2.0",
            "_view_name": "StyleView",
            "description_width": ""
          }
        },
        "fe16e1660fa94340957f3547d6673f15": {
          "model_module": "@jupyter-widgets/controls",
          "model_module_version": "1.5.0",
          "model_name": "HTMLModel",
          "state": {
            "_dom_classes": [],
            "_model_module": "@jupyter-widgets/controls",
            "_model_module_version": "1.5.0",
            "_model_name": "HTMLModel",
            "_view_count": null,
            "_view_module": "@jupyter-widgets/controls",
            "_view_module_version": "1.5.0",
            "_view_name": "HTMLView",
            "description": "",
            "description_tooltip": null,
            "layout": "IPY_MODEL_a3516dc0472b43c7be339763ba6326b0",
            "placeholder": "​",
            "style": "IPY_MODEL_b692ccf581404ad5ab71d0d93d0b1cb3",
            "value": "tokenizer.json: 100%"
          }
        },
        "ff64e548dbb441309b215b54d6474809": {
          "model_module": "@jupyter-widgets/base",
          "model_module_version": "1.2.0",
          "model_name": "LayoutModel",
          "state": {
            "_model_module": "@jupyter-widgets/base",
            "_model_module_version": "1.2.0",
            "_model_name": "LayoutModel",
            "_view_count": null,
            "_view_module": "@jupyter-widgets/base",
            "_view_module_version": "1.2.0",
            "_view_name": "LayoutView",
            "align_content": null,
            "align_items": null,
            "align_self": null,
            "border": null,
            "bottom": null,
            "display": null,
            "flex": null,
            "flex_flow": null,
            "grid_area": null,
            "grid_auto_columns": null,
            "grid_auto_flow": null,
            "grid_auto_rows": null,
            "grid_column": null,
            "grid_gap": null,
            "grid_row": null,
            "grid_template_areas": null,
            "grid_template_columns": null,
            "grid_template_rows": null,
            "height": null,
            "justify_content": null,
            "justify_items": null,
            "left": null,
            "margin": null,
            "max_height": null,
            "max_width": null,
            "min_height": null,
            "min_width": null,
            "object_fit": null,
            "object_position": null,
            "order": null,
            "overflow": null,
            "overflow_x": null,
            "overflow_y": null,
            "padding": null,
            "right": null,
            "top": null,
            "visibility": null,
            "width": null
          }
        }
      }
    }
  },
  "nbformat": 4,
  "nbformat_minor": 0
}
